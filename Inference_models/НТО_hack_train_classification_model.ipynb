{
  "nbformat": 4,
  "nbformat_minor": 0,
  "metadata": {
    "colab": {
      "provenance": [],
      "collapsed_sections": [
        "JprjWuHMJOQ6",
        "rzSa3vfUv3Nd",
        "_V57ZKuHpsea",
        "Iko4AlD_2sdT"
      ]
    },
    "kernelspec": {
      "name": "python3",
      "display_name": "Python 3"
    },
    "language_info": {
      "name": "python"
    }
  },
  "cells": [
    {
      "cell_type": "markdown",
      "metadata": {
        "id": "vAZeLy8C6yG3"
      },
      "source": [
        "# Создание модели классификации"
      ]
    },
    {
      "cell_type": "code",
      "source": [
        "import torch\n",
        "import torch.nn as nn\n",
        "import numpy as np\n",
        "import pandas as pd\n",
        "import base64\n",
        "import torch.optim as optim\n",
        "import torchvision\n",
        "import torchvision.transforms as transforms\n",
        "import matplotlib.pyplot as plt\n",
        "import torch.nn.functional as F\n",
        "import time\n",
        "import requests\n",
        "import joblib\n",
        "import matplotlib.pyplot as plt\n",
        "\n",
        "\n",
        "from transformers import  AutoProcessor, AutoModel, pipeline\n",
        "from torchvision.datasets import ImageFolder\n",
        "from sklearn.model_selection import train_test_split\n",
        "from sklearn.preprocessing import LabelEncoder\n",
        "from torch.utils.data import TensorDataset\n",
        "from PIL import Image\n",
        "from io import BytesIO\n",
        "from torchvision import models\n",
        "from torch.utils.data import DataLoader, Dataset\n",
        "from tqdm.autonotebook import tqdm, trange"
      ],
      "metadata": {
        "id": "hLQXxomQeomj"
      },
      "execution_count": null,
      "outputs": []
    },
    {
      "cell_type": "markdown",
      "source": [
        "## Модель resnet50"
      ],
      "metadata": {
        "id": "JprjWuHMJOQ6"
      }
    },
    {
      "cell_type": "code",
      "source": [
        "model = models.resnet50(pretrained=True)"
      ],
      "metadata": {
        "colab": {
          "base_uri": "https://localhost:8080/"
        },
        "id": "vDWsOW-XJUAo",
        "outputId": "59658f95-3e4b-4cb6-dd1d-e5568e030b11"
      },
      "execution_count": null,
      "outputs": [
        {
          "output_type": "stream",
          "name": "stderr",
          "text": [
            "/usr/local/lib/python3.10/dist-packages/torchvision/models/_utils.py:208: UserWarning: The parameter 'pretrained' is deprecated since 0.13 and may be removed in the future, please use 'weights' instead.\n",
            "  warnings.warn(\n",
            "/usr/local/lib/python3.10/dist-packages/torchvision/models/_utils.py:223: UserWarning: Arguments other than a weight enum or `None` for 'weights' are deprecated since 0.13 and may be removed in the future. The current behavior is equivalent to passing `weights=ResNet50_Weights.IMAGENET1K_V1`. You can also use `weights=ResNet50_Weights.DEFAULT` to get the most up-to-date weights.\n",
            "  warnings.warn(msg)\n",
            "Downloading: \"https://download.pytorch.org/models/resnet50-0676ba61.pth\" to /root/.cache/torch/hub/checkpoints/resnet50-0676ba61.pth\n",
            "100%|██████████| 97.8M/97.8M [00:00<00:00, 165MB/s]\n"
          ]
        }
      ]
    },
    {
      "cell_type": "code",
      "source": [
        "model"
      ],
      "metadata": {
        "id": "zmjKp1GYJUAo",
        "colab": {
          "base_uri": "https://localhost:8080/"
        },
        "outputId": "044588b0-dbf1-4847-a0a4-8fada0cb7021"
      },
      "execution_count": null,
      "outputs": [
        {
          "output_type": "execute_result",
          "data": {
            "text/plain": [
              "ResNet(\n",
              "  (conv1): Conv2d(3, 64, kernel_size=(7, 7), stride=(2, 2), padding=(3, 3), bias=False)\n",
              "  (bn1): BatchNorm2d(64, eps=1e-05, momentum=0.1, affine=True, track_running_stats=True)\n",
              "  (relu): ReLU(inplace=True)\n",
              "  (maxpool): MaxPool2d(kernel_size=3, stride=2, padding=1, dilation=1, ceil_mode=False)\n",
              "  (layer1): Sequential(\n",
              "    (0): Bottleneck(\n",
              "      (conv1): Conv2d(64, 64, kernel_size=(1, 1), stride=(1, 1), bias=False)\n",
              "      (bn1): BatchNorm2d(64, eps=1e-05, momentum=0.1, affine=True, track_running_stats=True)\n",
              "      (conv2): Conv2d(64, 64, kernel_size=(3, 3), stride=(1, 1), padding=(1, 1), bias=False)\n",
              "      (bn2): BatchNorm2d(64, eps=1e-05, momentum=0.1, affine=True, track_running_stats=True)\n",
              "      (conv3): Conv2d(64, 256, kernel_size=(1, 1), stride=(1, 1), bias=False)\n",
              "      (bn3): BatchNorm2d(256, eps=1e-05, momentum=0.1, affine=True, track_running_stats=True)\n",
              "      (relu): ReLU(inplace=True)\n",
              "      (downsample): Sequential(\n",
              "        (0): Conv2d(64, 256, kernel_size=(1, 1), stride=(1, 1), bias=False)\n",
              "        (1): BatchNorm2d(256, eps=1e-05, momentum=0.1, affine=True, track_running_stats=True)\n",
              "      )\n",
              "    )\n",
              "    (1): Bottleneck(\n",
              "      (conv1): Conv2d(256, 64, kernel_size=(1, 1), stride=(1, 1), bias=False)\n",
              "      (bn1): BatchNorm2d(64, eps=1e-05, momentum=0.1, affine=True, track_running_stats=True)\n",
              "      (conv2): Conv2d(64, 64, kernel_size=(3, 3), stride=(1, 1), padding=(1, 1), bias=False)\n",
              "      (bn2): BatchNorm2d(64, eps=1e-05, momentum=0.1, affine=True, track_running_stats=True)\n",
              "      (conv3): Conv2d(64, 256, kernel_size=(1, 1), stride=(1, 1), bias=False)\n",
              "      (bn3): BatchNorm2d(256, eps=1e-05, momentum=0.1, affine=True, track_running_stats=True)\n",
              "      (relu): ReLU(inplace=True)\n",
              "    )\n",
              "    (2): Bottleneck(\n",
              "      (conv1): Conv2d(256, 64, kernel_size=(1, 1), stride=(1, 1), bias=False)\n",
              "      (bn1): BatchNorm2d(64, eps=1e-05, momentum=0.1, affine=True, track_running_stats=True)\n",
              "      (conv2): Conv2d(64, 64, kernel_size=(3, 3), stride=(1, 1), padding=(1, 1), bias=False)\n",
              "      (bn2): BatchNorm2d(64, eps=1e-05, momentum=0.1, affine=True, track_running_stats=True)\n",
              "      (conv3): Conv2d(64, 256, kernel_size=(1, 1), stride=(1, 1), bias=False)\n",
              "      (bn3): BatchNorm2d(256, eps=1e-05, momentum=0.1, affine=True, track_running_stats=True)\n",
              "      (relu): ReLU(inplace=True)\n",
              "    )\n",
              "  )\n",
              "  (layer2): Sequential(\n",
              "    (0): Bottleneck(\n",
              "      (conv1): Conv2d(256, 128, kernel_size=(1, 1), stride=(1, 1), bias=False)\n",
              "      (bn1): BatchNorm2d(128, eps=1e-05, momentum=0.1, affine=True, track_running_stats=True)\n",
              "      (conv2): Conv2d(128, 128, kernel_size=(3, 3), stride=(2, 2), padding=(1, 1), bias=False)\n",
              "      (bn2): BatchNorm2d(128, eps=1e-05, momentum=0.1, affine=True, track_running_stats=True)\n",
              "      (conv3): Conv2d(128, 512, kernel_size=(1, 1), stride=(1, 1), bias=False)\n",
              "      (bn3): BatchNorm2d(512, eps=1e-05, momentum=0.1, affine=True, track_running_stats=True)\n",
              "      (relu): ReLU(inplace=True)\n",
              "      (downsample): Sequential(\n",
              "        (0): Conv2d(256, 512, kernel_size=(1, 1), stride=(2, 2), bias=False)\n",
              "        (1): BatchNorm2d(512, eps=1e-05, momentum=0.1, affine=True, track_running_stats=True)\n",
              "      )\n",
              "    )\n",
              "    (1): Bottleneck(\n",
              "      (conv1): Conv2d(512, 128, kernel_size=(1, 1), stride=(1, 1), bias=False)\n",
              "      (bn1): BatchNorm2d(128, eps=1e-05, momentum=0.1, affine=True, track_running_stats=True)\n",
              "      (conv2): Conv2d(128, 128, kernel_size=(3, 3), stride=(1, 1), padding=(1, 1), bias=False)\n",
              "      (bn2): BatchNorm2d(128, eps=1e-05, momentum=0.1, affine=True, track_running_stats=True)\n",
              "      (conv3): Conv2d(128, 512, kernel_size=(1, 1), stride=(1, 1), bias=False)\n",
              "      (bn3): BatchNorm2d(512, eps=1e-05, momentum=0.1, affine=True, track_running_stats=True)\n",
              "      (relu): ReLU(inplace=True)\n",
              "    )\n",
              "    (2): Bottleneck(\n",
              "      (conv1): Conv2d(512, 128, kernel_size=(1, 1), stride=(1, 1), bias=False)\n",
              "      (bn1): BatchNorm2d(128, eps=1e-05, momentum=0.1, affine=True, track_running_stats=True)\n",
              "      (conv2): Conv2d(128, 128, kernel_size=(3, 3), stride=(1, 1), padding=(1, 1), bias=False)\n",
              "      (bn2): BatchNorm2d(128, eps=1e-05, momentum=0.1, affine=True, track_running_stats=True)\n",
              "      (conv3): Conv2d(128, 512, kernel_size=(1, 1), stride=(1, 1), bias=False)\n",
              "      (bn3): BatchNorm2d(512, eps=1e-05, momentum=0.1, affine=True, track_running_stats=True)\n",
              "      (relu): ReLU(inplace=True)\n",
              "    )\n",
              "    (3): Bottleneck(\n",
              "      (conv1): Conv2d(512, 128, kernel_size=(1, 1), stride=(1, 1), bias=False)\n",
              "      (bn1): BatchNorm2d(128, eps=1e-05, momentum=0.1, affine=True, track_running_stats=True)\n",
              "      (conv2): Conv2d(128, 128, kernel_size=(3, 3), stride=(1, 1), padding=(1, 1), bias=False)\n",
              "      (bn2): BatchNorm2d(128, eps=1e-05, momentum=0.1, affine=True, track_running_stats=True)\n",
              "      (conv3): Conv2d(128, 512, kernel_size=(1, 1), stride=(1, 1), bias=False)\n",
              "      (bn3): BatchNorm2d(512, eps=1e-05, momentum=0.1, affine=True, track_running_stats=True)\n",
              "      (relu): ReLU(inplace=True)\n",
              "    )\n",
              "  )\n",
              "  (layer3): Sequential(\n",
              "    (0): Bottleneck(\n",
              "      (conv1): Conv2d(512, 256, kernel_size=(1, 1), stride=(1, 1), bias=False)\n",
              "      (bn1): BatchNorm2d(256, eps=1e-05, momentum=0.1, affine=True, track_running_stats=True)\n",
              "      (conv2): Conv2d(256, 256, kernel_size=(3, 3), stride=(2, 2), padding=(1, 1), bias=False)\n",
              "      (bn2): BatchNorm2d(256, eps=1e-05, momentum=0.1, affine=True, track_running_stats=True)\n",
              "      (conv3): Conv2d(256, 1024, kernel_size=(1, 1), stride=(1, 1), bias=False)\n",
              "      (bn3): BatchNorm2d(1024, eps=1e-05, momentum=0.1, affine=True, track_running_stats=True)\n",
              "      (relu): ReLU(inplace=True)\n",
              "      (downsample): Sequential(\n",
              "        (0): Conv2d(512, 1024, kernel_size=(1, 1), stride=(2, 2), bias=False)\n",
              "        (1): BatchNorm2d(1024, eps=1e-05, momentum=0.1, affine=True, track_running_stats=True)\n",
              "      )\n",
              "    )\n",
              "    (1): Bottleneck(\n",
              "      (conv1): Conv2d(1024, 256, kernel_size=(1, 1), stride=(1, 1), bias=False)\n",
              "      (bn1): BatchNorm2d(256, eps=1e-05, momentum=0.1, affine=True, track_running_stats=True)\n",
              "      (conv2): Conv2d(256, 256, kernel_size=(3, 3), stride=(1, 1), padding=(1, 1), bias=False)\n",
              "      (bn2): BatchNorm2d(256, eps=1e-05, momentum=0.1, affine=True, track_running_stats=True)\n",
              "      (conv3): Conv2d(256, 1024, kernel_size=(1, 1), stride=(1, 1), bias=False)\n",
              "      (bn3): BatchNorm2d(1024, eps=1e-05, momentum=0.1, affine=True, track_running_stats=True)\n",
              "      (relu): ReLU(inplace=True)\n",
              "    )\n",
              "    (2): Bottleneck(\n",
              "      (conv1): Conv2d(1024, 256, kernel_size=(1, 1), stride=(1, 1), bias=False)\n",
              "      (bn1): BatchNorm2d(256, eps=1e-05, momentum=0.1, affine=True, track_running_stats=True)\n",
              "      (conv2): Conv2d(256, 256, kernel_size=(3, 3), stride=(1, 1), padding=(1, 1), bias=False)\n",
              "      (bn2): BatchNorm2d(256, eps=1e-05, momentum=0.1, affine=True, track_running_stats=True)\n",
              "      (conv3): Conv2d(256, 1024, kernel_size=(1, 1), stride=(1, 1), bias=False)\n",
              "      (bn3): BatchNorm2d(1024, eps=1e-05, momentum=0.1, affine=True, track_running_stats=True)\n",
              "      (relu): ReLU(inplace=True)\n",
              "    )\n",
              "    (3): Bottleneck(\n",
              "      (conv1): Conv2d(1024, 256, kernel_size=(1, 1), stride=(1, 1), bias=False)\n",
              "      (bn1): BatchNorm2d(256, eps=1e-05, momentum=0.1, affine=True, track_running_stats=True)\n",
              "      (conv2): Conv2d(256, 256, kernel_size=(3, 3), stride=(1, 1), padding=(1, 1), bias=False)\n",
              "      (bn2): BatchNorm2d(256, eps=1e-05, momentum=0.1, affine=True, track_running_stats=True)\n",
              "      (conv3): Conv2d(256, 1024, kernel_size=(1, 1), stride=(1, 1), bias=False)\n",
              "      (bn3): BatchNorm2d(1024, eps=1e-05, momentum=0.1, affine=True, track_running_stats=True)\n",
              "      (relu): ReLU(inplace=True)\n",
              "    )\n",
              "    (4): Bottleneck(\n",
              "      (conv1): Conv2d(1024, 256, kernel_size=(1, 1), stride=(1, 1), bias=False)\n",
              "      (bn1): BatchNorm2d(256, eps=1e-05, momentum=0.1, affine=True, track_running_stats=True)\n",
              "      (conv2): Conv2d(256, 256, kernel_size=(3, 3), stride=(1, 1), padding=(1, 1), bias=False)\n",
              "      (bn2): BatchNorm2d(256, eps=1e-05, momentum=0.1, affine=True, track_running_stats=True)\n",
              "      (conv3): Conv2d(256, 1024, kernel_size=(1, 1), stride=(1, 1), bias=False)\n",
              "      (bn3): BatchNorm2d(1024, eps=1e-05, momentum=0.1, affine=True, track_running_stats=True)\n",
              "      (relu): ReLU(inplace=True)\n",
              "    )\n",
              "    (5): Bottleneck(\n",
              "      (conv1): Conv2d(1024, 256, kernel_size=(1, 1), stride=(1, 1), bias=False)\n",
              "      (bn1): BatchNorm2d(256, eps=1e-05, momentum=0.1, affine=True, track_running_stats=True)\n",
              "      (conv2): Conv2d(256, 256, kernel_size=(3, 3), stride=(1, 1), padding=(1, 1), bias=False)\n",
              "      (bn2): BatchNorm2d(256, eps=1e-05, momentum=0.1, affine=True, track_running_stats=True)\n",
              "      (conv3): Conv2d(256, 1024, kernel_size=(1, 1), stride=(1, 1), bias=False)\n",
              "      (bn3): BatchNorm2d(1024, eps=1e-05, momentum=0.1, affine=True, track_running_stats=True)\n",
              "      (relu): ReLU(inplace=True)\n",
              "    )\n",
              "  )\n",
              "  (layer4): Sequential(\n",
              "    (0): Bottleneck(\n",
              "      (conv1): Conv2d(1024, 512, kernel_size=(1, 1), stride=(1, 1), bias=False)\n",
              "      (bn1): BatchNorm2d(512, eps=1e-05, momentum=0.1, affine=True, track_running_stats=True)\n",
              "      (conv2): Conv2d(512, 512, kernel_size=(3, 3), stride=(2, 2), padding=(1, 1), bias=False)\n",
              "      (bn2): BatchNorm2d(512, eps=1e-05, momentum=0.1, affine=True, track_running_stats=True)\n",
              "      (conv3): Conv2d(512, 2048, kernel_size=(1, 1), stride=(1, 1), bias=False)\n",
              "      (bn3): BatchNorm2d(2048, eps=1e-05, momentum=0.1, affine=True, track_running_stats=True)\n",
              "      (relu): ReLU(inplace=True)\n",
              "      (downsample): Sequential(\n",
              "        (0): Conv2d(1024, 2048, kernel_size=(1, 1), stride=(2, 2), bias=False)\n",
              "        (1): BatchNorm2d(2048, eps=1e-05, momentum=0.1, affine=True, track_running_stats=True)\n",
              "      )\n",
              "    )\n",
              "    (1): Bottleneck(\n",
              "      (conv1): Conv2d(2048, 512, kernel_size=(1, 1), stride=(1, 1), bias=False)\n",
              "      (bn1): BatchNorm2d(512, eps=1e-05, momentum=0.1, affine=True, track_running_stats=True)\n",
              "      (conv2): Conv2d(512, 512, kernel_size=(3, 3), stride=(1, 1), padding=(1, 1), bias=False)\n",
              "      (bn2): BatchNorm2d(512, eps=1e-05, momentum=0.1, affine=True, track_running_stats=True)\n",
              "      (conv3): Conv2d(512, 2048, kernel_size=(1, 1), stride=(1, 1), bias=False)\n",
              "      (bn3): BatchNorm2d(2048, eps=1e-05, momentum=0.1, affine=True, track_running_stats=True)\n",
              "      (relu): ReLU(inplace=True)\n",
              "    )\n",
              "    (2): Bottleneck(\n",
              "      (conv1): Conv2d(2048, 512, kernel_size=(1, 1), stride=(1, 1), bias=False)\n",
              "      (bn1): BatchNorm2d(512, eps=1e-05, momentum=0.1, affine=True, track_running_stats=True)\n",
              "      (conv2): Conv2d(512, 512, kernel_size=(3, 3), stride=(1, 1), padding=(1, 1), bias=False)\n",
              "      (bn2): BatchNorm2d(512, eps=1e-05, momentum=0.1, affine=True, track_running_stats=True)\n",
              "      (conv3): Conv2d(512, 2048, kernel_size=(1, 1), stride=(1, 1), bias=False)\n",
              "      (bn3): BatchNorm2d(2048, eps=1e-05, momentum=0.1, affine=True, track_running_stats=True)\n",
              "      (relu): ReLU(inplace=True)\n",
              "    )\n",
              "  )\n",
              "  (avgpool): AdaptiveAvgPool2d(output_size=(1, 1))\n",
              "  (fc): Linear(in_features=2048, out_features=1000, bias=True)\n",
              ")"
            ]
          },
          "metadata": {},
          "execution_count": 55
        }
      ]
    },
    {
      "cell_type": "code",
      "source": [
        "# for param in model.parameters():\n",
        "#   param.requires_grad = False"
      ],
      "metadata": {
        "id": "ESly9rSsJUAo"
      },
      "execution_count": null,
      "outputs": []
    },
    {
      "cell_type": "code",
      "source": [
        "for name, param in model.named_parameters():\n",
        "    if not name.startswith('layer4') and not name.startswith('fc'):\n",
        "        param.requires_grad = False"
      ],
      "metadata": {
        "id": "6VvQQiwngiNG"
      },
      "execution_count": null,
      "outputs": []
    },
    {
      "cell_type": "markdown",
      "source": [
        "## Модель resnet101"
      ],
      "metadata": {
        "id": "rzSa3vfUv3Nd"
      }
    },
    {
      "cell_type": "code",
      "source": [
        "model = models.resnet101(pretrained=True)"
      ],
      "metadata": {
        "colab": {
          "base_uri": "https://localhost:8080/"
        },
        "id": "e-3zYNxrv8hi",
        "outputId": "c964e135-bf59-4ebb-b229-24612fb81f4d"
      },
      "execution_count": null,
      "outputs": [
        {
          "output_type": "stream",
          "name": "stderr",
          "text": [
            "/usr/local/lib/python3.10/dist-packages/torchvision/models/_utils.py:208: UserWarning: The parameter 'pretrained' is deprecated since 0.13 and may be removed in the future, please use 'weights' instead.\n",
            "  warnings.warn(\n",
            "/usr/local/lib/python3.10/dist-packages/torchvision/models/_utils.py:223: UserWarning: Arguments other than a weight enum or `None` for 'weights' are deprecated since 0.13 and may be removed in the future. The current behavior is equivalent to passing `weights=ResNet101_Weights.IMAGENET1K_V1`. You can also use `weights=ResNet101_Weights.DEFAULT` to get the most up-to-date weights.\n",
            "  warnings.warn(msg)\n",
            "Downloading: \"https://download.pytorch.org/models/resnet101-63fe2227.pth\" to /root/.cache/torch/hub/checkpoints/resnet101-63fe2227.pth\n",
            "100%|██████████| 171M/171M [00:01<00:00, 97.2MB/s]\n"
          ]
        }
      ]
    },
    {
      "cell_type": "code",
      "source": [
        "model"
      ],
      "metadata": {
        "colab": {
          "base_uri": "https://localhost:8080/"
        },
        "id": "kRDXr4vWv_UD",
        "outputId": "55e3d8ee-fcfe-47e9-8fda-a00fde07b3bd"
      },
      "execution_count": null,
      "outputs": [
        {
          "output_type": "execute_result",
          "data": {
            "text/plain": [
              "ResNet(\n",
              "  (conv1): Conv2d(3, 64, kernel_size=(7, 7), stride=(2, 2), padding=(3, 3), bias=False)\n",
              "  (bn1): BatchNorm2d(64, eps=1e-05, momentum=0.1, affine=True, track_running_stats=True)\n",
              "  (relu): ReLU(inplace=True)\n",
              "  (maxpool): MaxPool2d(kernel_size=3, stride=2, padding=1, dilation=1, ceil_mode=False)\n",
              "  (layer1): Sequential(\n",
              "    (0): Bottleneck(\n",
              "      (conv1): Conv2d(64, 64, kernel_size=(1, 1), stride=(1, 1), bias=False)\n",
              "      (bn1): BatchNorm2d(64, eps=1e-05, momentum=0.1, affine=True, track_running_stats=True)\n",
              "      (conv2): Conv2d(64, 64, kernel_size=(3, 3), stride=(1, 1), padding=(1, 1), bias=False)\n",
              "      (bn2): BatchNorm2d(64, eps=1e-05, momentum=0.1, affine=True, track_running_stats=True)\n",
              "      (conv3): Conv2d(64, 256, kernel_size=(1, 1), stride=(1, 1), bias=False)\n",
              "      (bn3): BatchNorm2d(256, eps=1e-05, momentum=0.1, affine=True, track_running_stats=True)\n",
              "      (relu): ReLU(inplace=True)\n",
              "      (downsample): Sequential(\n",
              "        (0): Conv2d(64, 256, kernel_size=(1, 1), stride=(1, 1), bias=False)\n",
              "        (1): BatchNorm2d(256, eps=1e-05, momentum=0.1, affine=True, track_running_stats=True)\n",
              "      )\n",
              "    )\n",
              "    (1): Bottleneck(\n",
              "      (conv1): Conv2d(256, 64, kernel_size=(1, 1), stride=(1, 1), bias=False)\n",
              "      (bn1): BatchNorm2d(64, eps=1e-05, momentum=0.1, affine=True, track_running_stats=True)\n",
              "      (conv2): Conv2d(64, 64, kernel_size=(3, 3), stride=(1, 1), padding=(1, 1), bias=False)\n",
              "      (bn2): BatchNorm2d(64, eps=1e-05, momentum=0.1, affine=True, track_running_stats=True)\n",
              "      (conv3): Conv2d(64, 256, kernel_size=(1, 1), stride=(1, 1), bias=False)\n",
              "      (bn3): BatchNorm2d(256, eps=1e-05, momentum=0.1, affine=True, track_running_stats=True)\n",
              "      (relu): ReLU(inplace=True)\n",
              "    )\n",
              "    (2): Bottleneck(\n",
              "      (conv1): Conv2d(256, 64, kernel_size=(1, 1), stride=(1, 1), bias=False)\n",
              "      (bn1): BatchNorm2d(64, eps=1e-05, momentum=0.1, affine=True, track_running_stats=True)\n",
              "      (conv2): Conv2d(64, 64, kernel_size=(3, 3), stride=(1, 1), padding=(1, 1), bias=False)\n",
              "      (bn2): BatchNorm2d(64, eps=1e-05, momentum=0.1, affine=True, track_running_stats=True)\n",
              "      (conv3): Conv2d(64, 256, kernel_size=(1, 1), stride=(1, 1), bias=False)\n",
              "      (bn3): BatchNorm2d(256, eps=1e-05, momentum=0.1, affine=True, track_running_stats=True)\n",
              "      (relu): ReLU(inplace=True)\n",
              "    )\n",
              "  )\n",
              "  (layer2): Sequential(\n",
              "    (0): Bottleneck(\n",
              "      (conv1): Conv2d(256, 128, kernel_size=(1, 1), stride=(1, 1), bias=False)\n",
              "      (bn1): BatchNorm2d(128, eps=1e-05, momentum=0.1, affine=True, track_running_stats=True)\n",
              "      (conv2): Conv2d(128, 128, kernel_size=(3, 3), stride=(2, 2), padding=(1, 1), bias=False)\n",
              "      (bn2): BatchNorm2d(128, eps=1e-05, momentum=0.1, affine=True, track_running_stats=True)\n",
              "      (conv3): Conv2d(128, 512, kernel_size=(1, 1), stride=(1, 1), bias=False)\n",
              "      (bn3): BatchNorm2d(512, eps=1e-05, momentum=0.1, affine=True, track_running_stats=True)\n",
              "      (relu): ReLU(inplace=True)\n",
              "      (downsample): Sequential(\n",
              "        (0): Conv2d(256, 512, kernel_size=(1, 1), stride=(2, 2), bias=False)\n",
              "        (1): BatchNorm2d(512, eps=1e-05, momentum=0.1, affine=True, track_running_stats=True)\n",
              "      )\n",
              "    )\n",
              "    (1): Bottleneck(\n",
              "      (conv1): Conv2d(512, 128, kernel_size=(1, 1), stride=(1, 1), bias=False)\n",
              "      (bn1): BatchNorm2d(128, eps=1e-05, momentum=0.1, affine=True, track_running_stats=True)\n",
              "      (conv2): Conv2d(128, 128, kernel_size=(3, 3), stride=(1, 1), padding=(1, 1), bias=False)\n",
              "      (bn2): BatchNorm2d(128, eps=1e-05, momentum=0.1, affine=True, track_running_stats=True)\n",
              "      (conv3): Conv2d(128, 512, kernel_size=(1, 1), stride=(1, 1), bias=False)\n",
              "      (bn3): BatchNorm2d(512, eps=1e-05, momentum=0.1, affine=True, track_running_stats=True)\n",
              "      (relu): ReLU(inplace=True)\n",
              "    )\n",
              "    (2): Bottleneck(\n",
              "      (conv1): Conv2d(512, 128, kernel_size=(1, 1), stride=(1, 1), bias=False)\n",
              "      (bn1): BatchNorm2d(128, eps=1e-05, momentum=0.1, affine=True, track_running_stats=True)\n",
              "      (conv2): Conv2d(128, 128, kernel_size=(3, 3), stride=(1, 1), padding=(1, 1), bias=False)\n",
              "      (bn2): BatchNorm2d(128, eps=1e-05, momentum=0.1, affine=True, track_running_stats=True)\n",
              "      (conv3): Conv2d(128, 512, kernel_size=(1, 1), stride=(1, 1), bias=False)\n",
              "      (bn3): BatchNorm2d(512, eps=1e-05, momentum=0.1, affine=True, track_running_stats=True)\n",
              "      (relu): ReLU(inplace=True)\n",
              "    )\n",
              "    (3): Bottleneck(\n",
              "      (conv1): Conv2d(512, 128, kernel_size=(1, 1), stride=(1, 1), bias=False)\n",
              "      (bn1): BatchNorm2d(128, eps=1e-05, momentum=0.1, affine=True, track_running_stats=True)\n",
              "      (conv2): Conv2d(128, 128, kernel_size=(3, 3), stride=(1, 1), padding=(1, 1), bias=False)\n",
              "      (bn2): BatchNorm2d(128, eps=1e-05, momentum=0.1, affine=True, track_running_stats=True)\n",
              "      (conv3): Conv2d(128, 512, kernel_size=(1, 1), stride=(1, 1), bias=False)\n",
              "      (bn3): BatchNorm2d(512, eps=1e-05, momentum=0.1, affine=True, track_running_stats=True)\n",
              "      (relu): ReLU(inplace=True)\n",
              "    )\n",
              "  )\n",
              "  (layer3): Sequential(\n",
              "    (0): Bottleneck(\n",
              "      (conv1): Conv2d(512, 256, kernel_size=(1, 1), stride=(1, 1), bias=False)\n",
              "      (bn1): BatchNorm2d(256, eps=1e-05, momentum=0.1, affine=True, track_running_stats=True)\n",
              "      (conv2): Conv2d(256, 256, kernel_size=(3, 3), stride=(2, 2), padding=(1, 1), bias=False)\n",
              "      (bn2): BatchNorm2d(256, eps=1e-05, momentum=0.1, affine=True, track_running_stats=True)\n",
              "      (conv3): Conv2d(256, 1024, kernel_size=(1, 1), stride=(1, 1), bias=False)\n",
              "      (bn3): BatchNorm2d(1024, eps=1e-05, momentum=0.1, affine=True, track_running_stats=True)\n",
              "      (relu): ReLU(inplace=True)\n",
              "      (downsample): Sequential(\n",
              "        (0): Conv2d(512, 1024, kernel_size=(1, 1), stride=(2, 2), bias=False)\n",
              "        (1): BatchNorm2d(1024, eps=1e-05, momentum=0.1, affine=True, track_running_stats=True)\n",
              "      )\n",
              "    )\n",
              "    (1): Bottleneck(\n",
              "      (conv1): Conv2d(1024, 256, kernel_size=(1, 1), stride=(1, 1), bias=False)\n",
              "      (bn1): BatchNorm2d(256, eps=1e-05, momentum=0.1, affine=True, track_running_stats=True)\n",
              "      (conv2): Conv2d(256, 256, kernel_size=(3, 3), stride=(1, 1), padding=(1, 1), bias=False)\n",
              "      (bn2): BatchNorm2d(256, eps=1e-05, momentum=0.1, affine=True, track_running_stats=True)\n",
              "      (conv3): Conv2d(256, 1024, kernel_size=(1, 1), stride=(1, 1), bias=False)\n",
              "      (bn3): BatchNorm2d(1024, eps=1e-05, momentum=0.1, affine=True, track_running_stats=True)\n",
              "      (relu): ReLU(inplace=True)\n",
              "    )\n",
              "    (2): Bottleneck(\n",
              "      (conv1): Conv2d(1024, 256, kernel_size=(1, 1), stride=(1, 1), bias=False)\n",
              "      (bn1): BatchNorm2d(256, eps=1e-05, momentum=0.1, affine=True, track_running_stats=True)\n",
              "      (conv2): Conv2d(256, 256, kernel_size=(3, 3), stride=(1, 1), padding=(1, 1), bias=False)\n",
              "      (bn2): BatchNorm2d(256, eps=1e-05, momentum=0.1, affine=True, track_running_stats=True)\n",
              "      (conv3): Conv2d(256, 1024, kernel_size=(1, 1), stride=(1, 1), bias=False)\n",
              "      (bn3): BatchNorm2d(1024, eps=1e-05, momentum=0.1, affine=True, track_running_stats=True)\n",
              "      (relu): ReLU(inplace=True)\n",
              "    )\n",
              "    (3): Bottleneck(\n",
              "      (conv1): Conv2d(1024, 256, kernel_size=(1, 1), stride=(1, 1), bias=False)\n",
              "      (bn1): BatchNorm2d(256, eps=1e-05, momentum=0.1, affine=True, track_running_stats=True)\n",
              "      (conv2): Conv2d(256, 256, kernel_size=(3, 3), stride=(1, 1), padding=(1, 1), bias=False)\n",
              "      (bn2): BatchNorm2d(256, eps=1e-05, momentum=0.1, affine=True, track_running_stats=True)\n",
              "      (conv3): Conv2d(256, 1024, kernel_size=(1, 1), stride=(1, 1), bias=False)\n",
              "      (bn3): BatchNorm2d(1024, eps=1e-05, momentum=0.1, affine=True, track_running_stats=True)\n",
              "      (relu): ReLU(inplace=True)\n",
              "    )\n",
              "    (4): Bottleneck(\n",
              "      (conv1): Conv2d(1024, 256, kernel_size=(1, 1), stride=(1, 1), bias=False)\n",
              "      (bn1): BatchNorm2d(256, eps=1e-05, momentum=0.1, affine=True, track_running_stats=True)\n",
              "      (conv2): Conv2d(256, 256, kernel_size=(3, 3), stride=(1, 1), padding=(1, 1), bias=False)\n",
              "      (bn2): BatchNorm2d(256, eps=1e-05, momentum=0.1, affine=True, track_running_stats=True)\n",
              "      (conv3): Conv2d(256, 1024, kernel_size=(1, 1), stride=(1, 1), bias=False)\n",
              "      (bn3): BatchNorm2d(1024, eps=1e-05, momentum=0.1, affine=True, track_running_stats=True)\n",
              "      (relu): ReLU(inplace=True)\n",
              "    )\n",
              "    (5): Bottleneck(\n",
              "      (conv1): Conv2d(1024, 256, kernel_size=(1, 1), stride=(1, 1), bias=False)\n",
              "      (bn1): BatchNorm2d(256, eps=1e-05, momentum=0.1, affine=True, track_running_stats=True)\n",
              "      (conv2): Conv2d(256, 256, kernel_size=(3, 3), stride=(1, 1), padding=(1, 1), bias=False)\n",
              "      (bn2): BatchNorm2d(256, eps=1e-05, momentum=0.1, affine=True, track_running_stats=True)\n",
              "      (conv3): Conv2d(256, 1024, kernel_size=(1, 1), stride=(1, 1), bias=False)\n",
              "      (bn3): BatchNorm2d(1024, eps=1e-05, momentum=0.1, affine=True, track_running_stats=True)\n",
              "      (relu): ReLU(inplace=True)\n",
              "    )\n",
              "    (6): Bottleneck(\n",
              "      (conv1): Conv2d(1024, 256, kernel_size=(1, 1), stride=(1, 1), bias=False)\n",
              "      (bn1): BatchNorm2d(256, eps=1e-05, momentum=0.1, affine=True, track_running_stats=True)\n",
              "      (conv2): Conv2d(256, 256, kernel_size=(3, 3), stride=(1, 1), padding=(1, 1), bias=False)\n",
              "      (bn2): BatchNorm2d(256, eps=1e-05, momentum=0.1, affine=True, track_running_stats=True)\n",
              "      (conv3): Conv2d(256, 1024, kernel_size=(1, 1), stride=(1, 1), bias=False)\n",
              "      (bn3): BatchNorm2d(1024, eps=1e-05, momentum=0.1, affine=True, track_running_stats=True)\n",
              "      (relu): ReLU(inplace=True)\n",
              "    )\n",
              "    (7): Bottleneck(\n",
              "      (conv1): Conv2d(1024, 256, kernel_size=(1, 1), stride=(1, 1), bias=False)\n",
              "      (bn1): BatchNorm2d(256, eps=1e-05, momentum=0.1, affine=True, track_running_stats=True)\n",
              "      (conv2): Conv2d(256, 256, kernel_size=(3, 3), stride=(1, 1), padding=(1, 1), bias=False)\n",
              "      (bn2): BatchNorm2d(256, eps=1e-05, momentum=0.1, affine=True, track_running_stats=True)\n",
              "      (conv3): Conv2d(256, 1024, kernel_size=(1, 1), stride=(1, 1), bias=False)\n",
              "      (bn3): BatchNorm2d(1024, eps=1e-05, momentum=0.1, affine=True, track_running_stats=True)\n",
              "      (relu): ReLU(inplace=True)\n",
              "    )\n",
              "    (8): Bottleneck(\n",
              "      (conv1): Conv2d(1024, 256, kernel_size=(1, 1), stride=(1, 1), bias=False)\n",
              "      (bn1): BatchNorm2d(256, eps=1e-05, momentum=0.1, affine=True, track_running_stats=True)\n",
              "      (conv2): Conv2d(256, 256, kernel_size=(3, 3), stride=(1, 1), padding=(1, 1), bias=False)\n",
              "      (bn2): BatchNorm2d(256, eps=1e-05, momentum=0.1, affine=True, track_running_stats=True)\n",
              "      (conv3): Conv2d(256, 1024, kernel_size=(1, 1), stride=(1, 1), bias=False)\n",
              "      (bn3): BatchNorm2d(1024, eps=1e-05, momentum=0.1, affine=True, track_running_stats=True)\n",
              "      (relu): ReLU(inplace=True)\n",
              "    )\n",
              "    (9): Bottleneck(\n",
              "      (conv1): Conv2d(1024, 256, kernel_size=(1, 1), stride=(1, 1), bias=False)\n",
              "      (bn1): BatchNorm2d(256, eps=1e-05, momentum=0.1, affine=True, track_running_stats=True)\n",
              "      (conv2): Conv2d(256, 256, kernel_size=(3, 3), stride=(1, 1), padding=(1, 1), bias=False)\n",
              "      (bn2): BatchNorm2d(256, eps=1e-05, momentum=0.1, affine=True, track_running_stats=True)\n",
              "      (conv3): Conv2d(256, 1024, kernel_size=(1, 1), stride=(1, 1), bias=False)\n",
              "      (bn3): BatchNorm2d(1024, eps=1e-05, momentum=0.1, affine=True, track_running_stats=True)\n",
              "      (relu): ReLU(inplace=True)\n",
              "    )\n",
              "    (10): Bottleneck(\n",
              "      (conv1): Conv2d(1024, 256, kernel_size=(1, 1), stride=(1, 1), bias=False)\n",
              "      (bn1): BatchNorm2d(256, eps=1e-05, momentum=0.1, affine=True, track_running_stats=True)\n",
              "      (conv2): Conv2d(256, 256, kernel_size=(3, 3), stride=(1, 1), padding=(1, 1), bias=False)\n",
              "      (bn2): BatchNorm2d(256, eps=1e-05, momentum=0.1, affine=True, track_running_stats=True)\n",
              "      (conv3): Conv2d(256, 1024, kernel_size=(1, 1), stride=(1, 1), bias=False)\n",
              "      (bn3): BatchNorm2d(1024, eps=1e-05, momentum=0.1, affine=True, track_running_stats=True)\n",
              "      (relu): ReLU(inplace=True)\n",
              "    )\n",
              "    (11): Bottleneck(\n",
              "      (conv1): Conv2d(1024, 256, kernel_size=(1, 1), stride=(1, 1), bias=False)\n",
              "      (bn1): BatchNorm2d(256, eps=1e-05, momentum=0.1, affine=True, track_running_stats=True)\n",
              "      (conv2): Conv2d(256, 256, kernel_size=(3, 3), stride=(1, 1), padding=(1, 1), bias=False)\n",
              "      (bn2): BatchNorm2d(256, eps=1e-05, momentum=0.1, affine=True, track_running_stats=True)\n",
              "      (conv3): Conv2d(256, 1024, kernel_size=(1, 1), stride=(1, 1), bias=False)\n",
              "      (bn3): BatchNorm2d(1024, eps=1e-05, momentum=0.1, affine=True, track_running_stats=True)\n",
              "      (relu): ReLU(inplace=True)\n",
              "    )\n",
              "    (12): Bottleneck(\n",
              "      (conv1): Conv2d(1024, 256, kernel_size=(1, 1), stride=(1, 1), bias=False)\n",
              "      (bn1): BatchNorm2d(256, eps=1e-05, momentum=0.1, affine=True, track_running_stats=True)\n",
              "      (conv2): Conv2d(256, 256, kernel_size=(3, 3), stride=(1, 1), padding=(1, 1), bias=False)\n",
              "      (bn2): BatchNorm2d(256, eps=1e-05, momentum=0.1, affine=True, track_running_stats=True)\n",
              "      (conv3): Conv2d(256, 1024, kernel_size=(1, 1), stride=(1, 1), bias=False)\n",
              "      (bn3): BatchNorm2d(1024, eps=1e-05, momentum=0.1, affine=True, track_running_stats=True)\n",
              "      (relu): ReLU(inplace=True)\n",
              "    )\n",
              "    (13): Bottleneck(\n",
              "      (conv1): Conv2d(1024, 256, kernel_size=(1, 1), stride=(1, 1), bias=False)\n",
              "      (bn1): BatchNorm2d(256, eps=1e-05, momentum=0.1, affine=True, track_running_stats=True)\n",
              "      (conv2): Conv2d(256, 256, kernel_size=(3, 3), stride=(1, 1), padding=(1, 1), bias=False)\n",
              "      (bn2): BatchNorm2d(256, eps=1e-05, momentum=0.1, affine=True, track_running_stats=True)\n",
              "      (conv3): Conv2d(256, 1024, kernel_size=(1, 1), stride=(1, 1), bias=False)\n",
              "      (bn3): BatchNorm2d(1024, eps=1e-05, momentum=0.1, affine=True, track_running_stats=True)\n",
              "      (relu): ReLU(inplace=True)\n",
              "    )\n",
              "    (14): Bottleneck(\n",
              "      (conv1): Conv2d(1024, 256, kernel_size=(1, 1), stride=(1, 1), bias=False)\n",
              "      (bn1): BatchNorm2d(256, eps=1e-05, momentum=0.1, affine=True, track_running_stats=True)\n",
              "      (conv2): Conv2d(256, 256, kernel_size=(3, 3), stride=(1, 1), padding=(1, 1), bias=False)\n",
              "      (bn2): BatchNorm2d(256, eps=1e-05, momentum=0.1, affine=True, track_running_stats=True)\n",
              "      (conv3): Conv2d(256, 1024, kernel_size=(1, 1), stride=(1, 1), bias=False)\n",
              "      (bn3): BatchNorm2d(1024, eps=1e-05, momentum=0.1, affine=True, track_running_stats=True)\n",
              "      (relu): ReLU(inplace=True)\n",
              "    )\n",
              "    (15): Bottleneck(\n",
              "      (conv1): Conv2d(1024, 256, kernel_size=(1, 1), stride=(1, 1), bias=False)\n",
              "      (bn1): BatchNorm2d(256, eps=1e-05, momentum=0.1, affine=True, track_running_stats=True)\n",
              "      (conv2): Conv2d(256, 256, kernel_size=(3, 3), stride=(1, 1), padding=(1, 1), bias=False)\n",
              "      (bn2): BatchNorm2d(256, eps=1e-05, momentum=0.1, affine=True, track_running_stats=True)\n",
              "      (conv3): Conv2d(256, 1024, kernel_size=(1, 1), stride=(1, 1), bias=False)\n",
              "      (bn3): BatchNorm2d(1024, eps=1e-05, momentum=0.1, affine=True, track_running_stats=True)\n",
              "      (relu): ReLU(inplace=True)\n",
              "    )\n",
              "    (16): Bottleneck(\n",
              "      (conv1): Conv2d(1024, 256, kernel_size=(1, 1), stride=(1, 1), bias=False)\n",
              "      (bn1): BatchNorm2d(256, eps=1e-05, momentum=0.1, affine=True, track_running_stats=True)\n",
              "      (conv2): Conv2d(256, 256, kernel_size=(3, 3), stride=(1, 1), padding=(1, 1), bias=False)\n",
              "      (bn2): BatchNorm2d(256, eps=1e-05, momentum=0.1, affine=True, track_running_stats=True)\n",
              "      (conv3): Conv2d(256, 1024, kernel_size=(1, 1), stride=(1, 1), bias=False)\n",
              "      (bn3): BatchNorm2d(1024, eps=1e-05, momentum=0.1, affine=True, track_running_stats=True)\n",
              "      (relu): ReLU(inplace=True)\n",
              "    )\n",
              "    (17): Bottleneck(\n",
              "      (conv1): Conv2d(1024, 256, kernel_size=(1, 1), stride=(1, 1), bias=False)\n",
              "      (bn1): BatchNorm2d(256, eps=1e-05, momentum=0.1, affine=True, track_running_stats=True)\n",
              "      (conv2): Conv2d(256, 256, kernel_size=(3, 3), stride=(1, 1), padding=(1, 1), bias=False)\n",
              "      (bn2): BatchNorm2d(256, eps=1e-05, momentum=0.1, affine=True, track_running_stats=True)\n",
              "      (conv3): Conv2d(256, 1024, kernel_size=(1, 1), stride=(1, 1), bias=False)\n",
              "      (bn3): BatchNorm2d(1024, eps=1e-05, momentum=0.1, affine=True, track_running_stats=True)\n",
              "      (relu): ReLU(inplace=True)\n",
              "    )\n",
              "    (18): Bottleneck(\n",
              "      (conv1): Conv2d(1024, 256, kernel_size=(1, 1), stride=(1, 1), bias=False)\n",
              "      (bn1): BatchNorm2d(256, eps=1e-05, momentum=0.1, affine=True, track_running_stats=True)\n",
              "      (conv2): Conv2d(256, 256, kernel_size=(3, 3), stride=(1, 1), padding=(1, 1), bias=False)\n",
              "      (bn2): BatchNorm2d(256, eps=1e-05, momentum=0.1, affine=True, track_running_stats=True)\n",
              "      (conv3): Conv2d(256, 1024, kernel_size=(1, 1), stride=(1, 1), bias=False)\n",
              "      (bn3): BatchNorm2d(1024, eps=1e-05, momentum=0.1, affine=True, track_running_stats=True)\n",
              "      (relu): ReLU(inplace=True)\n",
              "    )\n",
              "    (19): Bottleneck(\n",
              "      (conv1): Conv2d(1024, 256, kernel_size=(1, 1), stride=(1, 1), bias=False)\n",
              "      (bn1): BatchNorm2d(256, eps=1e-05, momentum=0.1, affine=True, track_running_stats=True)\n",
              "      (conv2): Conv2d(256, 256, kernel_size=(3, 3), stride=(1, 1), padding=(1, 1), bias=False)\n",
              "      (bn2): BatchNorm2d(256, eps=1e-05, momentum=0.1, affine=True, track_running_stats=True)\n",
              "      (conv3): Conv2d(256, 1024, kernel_size=(1, 1), stride=(1, 1), bias=False)\n",
              "      (bn3): BatchNorm2d(1024, eps=1e-05, momentum=0.1, affine=True, track_running_stats=True)\n",
              "      (relu): ReLU(inplace=True)\n",
              "    )\n",
              "    (20): Bottleneck(\n",
              "      (conv1): Conv2d(1024, 256, kernel_size=(1, 1), stride=(1, 1), bias=False)\n",
              "      (bn1): BatchNorm2d(256, eps=1e-05, momentum=0.1, affine=True, track_running_stats=True)\n",
              "      (conv2): Conv2d(256, 256, kernel_size=(3, 3), stride=(1, 1), padding=(1, 1), bias=False)\n",
              "      (bn2): BatchNorm2d(256, eps=1e-05, momentum=0.1, affine=True, track_running_stats=True)\n",
              "      (conv3): Conv2d(256, 1024, kernel_size=(1, 1), stride=(1, 1), bias=False)\n",
              "      (bn3): BatchNorm2d(1024, eps=1e-05, momentum=0.1, affine=True, track_running_stats=True)\n",
              "      (relu): ReLU(inplace=True)\n",
              "    )\n",
              "    (21): Bottleneck(\n",
              "      (conv1): Conv2d(1024, 256, kernel_size=(1, 1), stride=(1, 1), bias=False)\n",
              "      (bn1): BatchNorm2d(256, eps=1e-05, momentum=0.1, affine=True, track_running_stats=True)\n",
              "      (conv2): Conv2d(256, 256, kernel_size=(3, 3), stride=(1, 1), padding=(1, 1), bias=False)\n",
              "      (bn2): BatchNorm2d(256, eps=1e-05, momentum=0.1, affine=True, track_running_stats=True)\n",
              "      (conv3): Conv2d(256, 1024, kernel_size=(1, 1), stride=(1, 1), bias=False)\n",
              "      (bn3): BatchNorm2d(1024, eps=1e-05, momentum=0.1, affine=True, track_running_stats=True)\n",
              "      (relu): ReLU(inplace=True)\n",
              "    )\n",
              "    (22): Bottleneck(\n",
              "      (conv1): Conv2d(1024, 256, kernel_size=(1, 1), stride=(1, 1), bias=False)\n",
              "      (bn1): BatchNorm2d(256, eps=1e-05, momentum=0.1, affine=True, track_running_stats=True)\n",
              "      (conv2): Conv2d(256, 256, kernel_size=(3, 3), stride=(1, 1), padding=(1, 1), bias=False)\n",
              "      (bn2): BatchNorm2d(256, eps=1e-05, momentum=0.1, affine=True, track_running_stats=True)\n",
              "      (conv3): Conv2d(256, 1024, kernel_size=(1, 1), stride=(1, 1), bias=False)\n",
              "      (bn3): BatchNorm2d(1024, eps=1e-05, momentum=0.1, affine=True, track_running_stats=True)\n",
              "      (relu): ReLU(inplace=True)\n",
              "    )\n",
              "  )\n",
              "  (layer4): Sequential(\n",
              "    (0): Bottleneck(\n",
              "      (conv1): Conv2d(1024, 512, kernel_size=(1, 1), stride=(1, 1), bias=False)\n",
              "      (bn1): BatchNorm2d(512, eps=1e-05, momentum=0.1, affine=True, track_running_stats=True)\n",
              "      (conv2): Conv2d(512, 512, kernel_size=(3, 3), stride=(2, 2), padding=(1, 1), bias=False)\n",
              "      (bn2): BatchNorm2d(512, eps=1e-05, momentum=0.1, affine=True, track_running_stats=True)\n",
              "      (conv3): Conv2d(512, 2048, kernel_size=(1, 1), stride=(1, 1), bias=False)\n",
              "      (bn3): BatchNorm2d(2048, eps=1e-05, momentum=0.1, affine=True, track_running_stats=True)\n",
              "      (relu): ReLU(inplace=True)\n",
              "      (downsample): Sequential(\n",
              "        (0): Conv2d(1024, 2048, kernel_size=(1, 1), stride=(2, 2), bias=False)\n",
              "        (1): BatchNorm2d(2048, eps=1e-05, momentum=0.1, affine=True, track_running_stats=True)\n",
              "      )\n",
              "    )\n",
              "    (1): Bottleneck(\n",
              "      (conv1): Conv2d(2048, 512, kernel_size=(1, 1), stride=(1, 1), bias=False)\n",
              "      (bn1): BatchNorm2d(512, eps=1e-05, momentum=0.1, affine=True, track_running_stats=True)\n",
              "      (conv2): Conv2d(512, 512, kernel_size=(3, 3), stride=(1, 1), padding=(1, 1), bias=False)\n",
              "      (bn2): BatchNorm2d(512, eps=1e-05, momentum=0.1, affine=True, track_running_stats=True)\n",
              "      (conv3): Conv2d(512, 2048, kernel_size=(1, 1), stride=(1, 1), bias=False)\n",
              "      (bn3): BatchNorm2d(2048, eps=1e-05, momentum=0.1, affine=True, track_running_stats=True)\n",
              "      (relu): ReLU(inplace=True)\n",
              "    )\n",
              "    (2): Bottleneck(\n",
              "      (conv1): Conv2d(2048, 512, kernel_size=(1, 1), stride=(1, 1), bias=False)\n",
              "      (bn1): BatchNorm2d(512, eps=1e-05, momentum=0.1, affine=True, track_running_stats=True)\n",
              "      (conv2): Conv2d(512, 512, kernel_size=(3, 3), stride=(1, 1), padding=(1, 1), bias=False)\n",
              "      (bn2): BatchNorm2d(512, eps=1e-05, momentum=0.1, affine=True, track_running_stats=True)\n",
              "      (conv3): Conv2d(512, 2048, kernel_size=(1, 1), stride=(1, 1), bias=False)\n",
              "      (bn3): BatchNorm2d(2048, eps=1e-05, momentum=0.1, affine=True, track_running_stats=True)\n",
              "      (relu): ReLU(inplace=True)\n",
              "    )\n",
              "  )\n",
              "  (avgpool): AdaptiveAvgPool2d(output_size=(1, 1))\n",
              "  (fc): Linear(in_features=2048, out_features=1000, bias=True)\n",
              ")"
            ]
          },
          "metadata": {},
          "execution_count": 60
        }
      ]
    },
    {
      "cell_type": "code",
      "source": [
        "for name, param in model.named_parameters():\n",
        "  if not name.startswith('layer4') and not name.startswith('fc'):\n",
        "      param.requires_grad = False"
      ],
      "metadata": {
        "id": "tldHoKnkwA5G"
      },
      "execution_count": null,
      "outputs": []
    },
    {
      "cell_type": "markdown",
      "source": [
        "## DataLoader"
      ],
      "metadata": {
        "id": "6rWYJ6Hqpl-F"
      }
    },
    {
      "cell_type": "code",
      "source": [
        "class CustomDataset(Dataset):\n",
        "    def __init__(self, images, texts, transform=None):\n",
        "      self.images = images\n",
        "      self.texts = texts\n",
        "      self.transform = transform\n",
        "\n",
        "    def __len__(self):\n",
        "      return len(self.images)\n",
        "\n",
        "    def __getitem__(self, idx):\n",
        "      image = self.images[idx]\n",
        "      text = self.texts[idx]\n",
        "      if self.transform:\n",
        "          image = self.transform(image)\n",
        "\n",
        "      return image, text"
      ],
      "metadata": {
        "id": "YUQL-abPlUa3"
      },
      "execution_count": null,
      "outputs": []
    },
    {
      "cell_type": "code",
      "execution_count": null,
      "metadata": {
        "id": "ZQUf4Pa1_eHD"
      },
      "outputs": [],
      "source": [
        "mean = [0.485, 0.456, 0.406]\n",
        "std = [0.229, 0.224, 0.225]\n",
        "\n",
        "train_transform = transforms.Compose([\n",
        "    transforms.Resize(224),\n",
        "    transforms.RandomResizedCrop(224),\n",
        "    transforms.RandomHorizontalFlip(p=0.3),\n",
        "    transforms.RandomRotation(10),\n",
        "    transforms.RandomChoice([\n",
        "            transforms.ColorJitter(hue=0.1),\n",
        "            transforms.ColorJitter(brightness=0.2),\n",
        "            transforms.ColorJitter(saturation=0.2),\n",
        "            transforms.ColorJitter(contrast=0.2),\n",
        "        ]),\n",
        "    transforms.ToTensor(),\n",
        "    transforms.Normalize(mean, std)\n",
        "])\n",
        "\n",
        "test_transform = transforms.Compose([\n",
        "    transforms.Resize(224),\n",
        "    transforms.CenterCrop(224),\n",
        "    transforms.ToTensor(),\n",
        "    transforms.Normalize(mean, std)\n",
        "])\n",
        "\n",
        "batch_size = 64"
      ]
    },
    {
      "cell_type": "code",
      "execution_count": null,
      "metadata": {
        "id": "tPK1oFAW94PN"
      },
      "outputs": [],
      "source": [
        "X = merged_df['image']\n",
        "y = merged_df['Name'].values"
      ]
    },
    {
      "cell_type": "code",
      "execution_count": null,
      "metadata": {
        "id": "YC_nMli9-jCo"
      },
      "outputs": [],
      "source": [
        "images = [Image.open(BytesIO(base64.b64decode(bs4_url))).convert(\"RGB\") for bs4_url in X]"
      ]
    },
    {
      "cell_type": "code",
      "source": [
        "label_encoder = LabelEncoder()"
      ],
      "metadata": {
        "id": "Hc789zvcr-ZP"
      },
      "execution_count": null,
      "outputs": []
    },
    {
      "cell_type": "code",
      "source": [
        "y_encoded = label_encoder.fit_transform(y)"
      ],
      "metadata": {
        "id": "BduYFGISr8uF"
      },
      "execution_count": null,
      "outputs": []
    },
    {
      "cell_type": "code",
      "source": [
        "joblib.dump(label_encoder, 'label_encoder.pkl')"
      ],
      "metadata": {
        "colab": {
          "base_uri": "https://localhost:8080/"
        },
        "id": "oVVqJzaMJjtt",
        "outputId": "cf4dee2f-47b6-4de2-ff30-0e78a0fc0598"
      },
      "execution_count": null,
      "outputs": [
        {
          "output_type": "execute_result",
          "data": {
            "text/plain": [
              "['label_encoder.pkl']"
            ]
          },
          "metadata": {},
          "execution_count": 83
        }
      ]
    },
    {
      "cell_type": "code",
      "source": [
        "len(y_encoded)"
      ],
      "metadata": {
        "colab": {
          "base_uri": "https://localhost:8080/"
        },
        "id": "HfrQxFy1qXGV",
        "outputId": "ad21b582-bdbc-4b61-e49b-aa3046ae6d05"
      },
      "execution_count": null,
      "outputs": [
        {
          "output_type": "execute_result",
          "data": {
            "text/plain": [
              "15251"
            ]
          },
          "metadata": {},
          "execution_count": 66
        }
      ]
    },
    {
      "cell_type": "code",
      "source": [
        "X_train, X_val, y_train, y_val = train_test_split(images, y_encoded, test_size=0.2, random_state=42)"
      ],
      "metadata": {
        "id": "vNXLM8QBnTU7"
      },
      "execution_count": null,
      "outputs": []
    },
    {
      "cell_type": "code",
      "source": [
        "train_custom_dataset = CustomDataset(X_train, y_train, train_transform)\n",
        "val_custom_dataset = CustomDataset(X_val, y_val, train_transform)\n",
        "\n",
        "train_data_loader = DataLoader(train_custom_dataset, batch_size=batch_size, shuffle=True)\n",
        "val_data_loader = DataLoader(val_custom_dataset, batch_size=batch_size, shuffle=False)"
      ],
      "metadata": {
        "id": "KEziho1mnFmt"
      },
      "execution_count": null,
      "outputs": []
    },
    {
      "cell_type": "markdown",
      "source": [
        "## Pipline"
      ],
      "metadata": {
        "id": "_V57ZKuHpsea"
      }
    },
    {
      "cell_type": "code",
      "source": [
        "def train_model(model, criterion, optimizer, train_loader, val_loader, num_epochs, device):\n",
        "    since = time.time()\n",
        "\n",
        "    best_model_wts = model.state_dict()\n",
        "    best_acc = 0.0\n",
        "\n",
        "    losses = {'train': [], \"val\": []}\n",
        "    accuracies = {'train': [], \"val\": []}\n",
        "\n",
        "    for epoch in trange(num_epochs, desc=\"Epoch:\"):\n",
        "        for phase in ['train', 'val']:\n",
        "            if phase == 'train':\n",
        "                # scheduler.step()\n",
        "                model.train(True)\n",
        "                data_loader = train_loader\n",
        "            else:\n",
        "                model.eval()\n",
        "                data_loader = val_loader\n",
        "\n",
        "            running_loss = 0.0\n",
        "            running_corrects = 0\n",
        "\n",
        "            for inputs, labels in tqdm(data_loader, leave=False, desc=f\"{phase} iter:\"):\n",
        "                inputs = inputs.to(device)\n",
        "                labels = labels.to(device)\n",
        "\n",
        "\n",
        "                optimizer.zero_grad()\n",
        "\n",
        "                with torch.set_grad_enabled(phase == 'train'):\n",
        "                    outputs = model(inputs)\n",
        "                    _, preds = torch.max(outputs, 1)\n",
        "                    loss = criterion(outputs, labels)\n",
        "\n",
        "\n",
        "                    if phase == 'train':\n",
        "                        loss.backward()\n",
        "                        optimizer.step()\n",
        "\n",
        "                running_loss += loss.item() * inputs.size(0)\n",
        "                running_corrects += torch.sum(preds == labels.data).to(torch.float32).item()\n",
        "\n",
        "            epoch_loss = running_loss / len(data_loader.dataset)\n",
        "            epoch_acc = running_corrects / len(data_loader.dataset)\n",
        "\n",
        "            losses[phase].append(epoch_loss)\n",
        "            accuracies[phase].append(epoch_acc)\n",
        "\n",
        "            tqdm.write('{} Loss: {:.4f} Acc: {:.4f}'.format(phase, epoch_loss, epoch_acc))\n",
        "\n",
        "            if phase == 'val' and epoch_acc > best_acc:\n",
        "                best_acc = epoch_acc\n",
        "                best_model_wts = model.state_dict()\n",
        "\n",
        "    time_elapsed = time.time() - since\n",
        "    print(f'Epoch: {epoch}')\n",
        "    print('Training complete in {:.0f}m {:.0f}s'.format(\n",
        "        time_elapsed // 60, time_elapsed % 60))\n",
        "    print('Best val Acc: {:4f}'.format(best_acc))\n",
        "\n",
        "    model.load_state_dict(best_model_wts)\n",
        "    return model, losses, accuracies"
      ],
      "metadata": {
        "id": "GjktALd6pt77"
      },
      "execution_count": null,
      "outputs": []
    },
    {
      "cell_type": "markdown",
      "source": [
        "## Обучение модели"
      ],
      "metadata": {
        "id": "Iko4AlD_2sdT"
      }
    },
    {
      "cell_type": "code",
      "source": [
        "device = torch.device(\"cuda:0\" if torch.cuda.is_available() else \"cpu\")"
      ],
      "metadata": {
        "id": "7Q5yTJdjeJ0z"
      },
      "execution_count": null,
      "outputs": []
    },
    {
      "cell_type": "code",
      "source": [
        "device"
      ],
      "metadata": {
        "colab": {
          "base_uri": "https://localhost:8080/"
        },
        "id": "rfZB3uVQevhk",
        "outputId": "b7827dba-820a-42ac-fb1c-36121b9cd6d8"
      },
      "execution_count": null,
      "outputs": [
        {
          "output_type": "execute_result",
          "data": {
            "text/plain": [
              "device(type='cuda', index=0)"
            ]
          },
          "metadata": {},
          "execution_count": 71
        }
      ]
    },
    {
      "cell_type": "code",
      "source": [
        "n_classes = len(np.unique(y_encoded))"
      ],
      "metadata": {
        "id": "dRkaXwPE2RiQ"
      },
      "execution_count": null,
      "outputs": []
    },
    {
      "cell_type": "code",
      "source": [
        "model.fc = torch.nn.Linear(model.fc.in_features, n_classes)"
      ],
      "metadata": {
        "id": "n3doEsGeHpvV"
      },
      "execution_count": null,
      "outputs": []
    },
    {
      "cell_type": "code",
      "source": [
        "model = model.to(device)"
      ],
      "metadata": {
        "id": "j9CcxzX2zoMA"
      },
      "execution_count": null,
      "outputs": []
    },
    {
      "cell_type": "code",
      "source": [
        "num_epochs = 30\n",
        "\n",
        "loss = torch.nn.CrossEntropyLoss()\n",
        "# loss = torch.nn.BCEWithLogitsLoss()\n",
        "optimizer = torch.optim.Adam(model.parameters(), lr=1.0e-3)\n",
        "\n",
        "# scheduler = torch.optim.lr_scheduler.StepLR(optimizer, step_size=5, gamma=0.1)"
      ],
      "metadata": {
        "id": "tfGsDD6t2f1u"
      },
      "execution_count": null,
      "outputs": []
    },
    {
      "cell_type": "code",
      "source": [
        "model, losses, accuracies = train_model(model, loss, optimizer, train_data_loader, val_data_loader, num_epochs, device);"
      ],
      "metadata": {
        "colab": {
          "base_uri": "https://localhost:8080/",
          "height": 1000,
          "referenced_widgets": [
            "1209950ce0524d4491a6f93612bc3fad",
            "1344dee92a8a4a4bbc2756304510b146",
            "a5ec6d166a2c4abbbd6b1c5b323697bd",
            "0e197944837a414a8ea84ac43d956835",
            "5ca0ec2dc5fb4aaf8fde2bfc3f4d4364",
            "a9a7cbd6d67e42b4927a0b2907b5d587",
            "26a1c89964a644a0af7f359e41b3c0d8",
            "6da8a6ac9aee410cb7ef65796111da6f",
            "f561ecd86d964239a7048b54e8692d57",
            "3cbf9e9f2e23476fb331dfcbda879665",
            "f796093c4b1544b2b15dc09ac2f244e0",
            "7b3bf4f7135f42f99ef2226bc8d05c6d",
            "a3fb1cf10111410ab1639fd459941ff2",
            "e96afda3ab9f455385d80f884e1ec59a",
            "5bd1af0df2c644da83bf8865fb1e070c",
            "69d23fae4a714d6eae0269c4dd5939b4",
            "63cd5f3bf42d4491bd87f9f9af418322",
            "d7272229a86143848ebe41a60a34a1aa",
            "d3b9facb3a6841b7a0ba8ece5ae0da8d",
            "229c451854ce43c19e4d9a4a34b16258",
            "25c7578f4d90409dbb7dd6830a806092",
            "fd7e9065653b4940b7d8d44504be918f",
            "69fbfd7680274910bc8f775b06054326",
            "22034cc6f81945ecabea38b4f3d56ebb",
            "d4c6d60e244946d78956ed2683de3c18",
            "63797e621b004150a66d70fb77ff470a",
            "a3c8c12809f645a387e0c2326fcdfc9d",
            "f52345fa4498474484dc2920603480f5",
            "931e9f559e044914bf1fc54abc3495b1",
            "690920ff0ed540fd88d89151bf1b4a65",
            "4eb8f9b8773746cbaa19d5793d8e6ade",
            "629dc16e92cd495cbfabdcaa5436a655",
            "f22434b0ed66435fbef6463441527da1",
            "291f6aed2b604a2a80289abb5228c596",
            "75dab35dd66748a8ad39bf089fc1d1a3",
            "a1242c00e7034d4283a7068c6c221d43",
            "3871a951e45d4ac0a1703dd806bcab94",
            "313999214d124cb290956ce616ee799c",
            "d842a5322c1849fcbe69c4bfe576c81f",
            "60bfac58a23c4ef1a94032392cd9620e",
            "dfeb6cb8c1f649ffa1a1afd0a9bbc8be",
            "f72bc2d827e24c64a11017d9304e9a32",
            "21a0c19717ef4f19a1b974cd619dc464",
            "e34acf77b5eb47eeb318fb9518196d6b",
            "88af0f084b8f4a12931e98fc2dac5f94",
            "c68a7e1778bd4c41b78e956ad67ce3f5",
            "c7b02e6ba7614f39955078114446fa4f",
            "a061fc0dde6c44a8a5206fb2271c8721",
            "3da3c22146a84e73a89dc647256a7995",
            "1397d9e0ac2c4e4684e389274cf8732a",
            "701884dabb664df19467417a10341c29",
            "6091566bd3ea4f2da609e3d0fdc766c8",
            "8a0678d139da464a83ae35b3f9699651",
            "8bafc66298434ef2a9bc682bdbe744a0",
            "1975496591c9462c84cb739423533a16",
            "3238beb6fa5a43548315fad8ae997488",
            "e7db5344f8a64e199956f2fc12a46e47",
            "30ddb06049344528b6512e0b077e1652",
            "15f7150bc0794e759fa36f81cddc1a3f",
            "6cefb18a7810419b82654897b937f028",
            "3fed145c0e444034aae3e7b398251cc6",
            "9ae3bd03ca9542d291e1b1b5f3bc1ca2",
            "e1e0ccea10954c40a8e064ccdd972194",
            "110c10fbcb10497d86940d894c52f6a1",
            "ec04c14b1de644898e5aa5e00d8afcdd",
            "0a9d9a5fb3a24fb593e8f2bbc50b389f",
            "5cfacd71d79447c58243a9fa6ca1acd3",
            "580dcdc49819400c8ec2bb1ca830d13e",
            "d85ea1f36a4e4e14a183bd26b10f835a",
            "e0010a6c7f744578b738a21bce6158df",
            "361a4c16e5da48dd9ed2a2f16cc1a687",
            "5e77d65fbceb4c0f961cb7989f019841",
            "19f610f3098c4ccea58d74a86f2d20fe",
            "370d8bfe497f4460b9e50e8902c0ca57",
            "12bfcb541abc4f068f1c3f5a29deed52",
            "c5b10c29dcd14167b037e1c48bfa1035",
            "3acf827f321049efaba5793e20d078b6",
            "ae28276968254614990b50dde8d06352",
            "3055a698f2e040229fed145d6c95d378",
            "1912d8ee336b4382a917f2c535fd90eb",
            "130efe7aaa6b4a19873e8dceab067fad",
            "c56064035e0f48e6bf26138b89b5f467",
            "886112f811104f23bb564155368a0749",
            "7f2f2ff4fdab4861b37d886ff1b0e317",
            "bc864ea9a03942b3967a37367d19f3f7",
            "e0d0465e649c482196e068b521c8bd10",
            "e099bdf81553404fa37e432e4c3d00fb",
            "be0e187da9f6469ea1345bd92708bda4",
            "8c735671dd4a4b44a3dfba5edf70e6cf",
            "6796daffea4c4201bb583fc9639978df",
            "9fe5407303f441049ea992fb8de6065c",
            "2eae99afce564f1eb0a0d53d090db597",
            "dcec3a2eec774ae7aae04e7a617d6c82",
            "6c08a46274c148338f6b47b0b2107aa9",
            "243b021aa7a34b7ab7344792344c1a2b",
            "523355fd6d5c4e13aa76c5551c06efad",
            "4c66dce8ec364b3a9303b202239effd3",
            "ce2d017605cb448294260827b355dd94",
            "00376b099ebb42efb2b476d0baf8c73d",
            "aee332a207754978a3138df759eb305a",
            "8db11f08da944ee8bf32a365afead589",
            "d7920634a82942819d3b36445b8a8e49",
            "b932d1efdc2b4fd68c7cc7059a23be73",
            "313cd9ce58e54b5895449b8a2d084618",
            "c03d394ca1314bd6a2a622364ef2e107",
            "7da3590927d2477ea885528aee8dee1d",
            "b44809a12feb4350b5ffbfc76a14d92a",
            "eee169e6c3954a158a86b496c3713b1b",
            "28adc35794c84df3a317aa6642e5c8d8",
            "a1d462d8631c427fbe7e770c37fc7d57",
            "63c85d03b6d844f9bd4c8805c0c5ef62",
            "dcffd52d32604639ad752ef193f0bacd",
            "c4bcb91cbd4a41d680de24ae4353ba1e",
            "e5070e93fb294eafb6f465fa8547a4da",
            "1a26a2dd2d4e49678679eba2f40600e6",
            "badd97d415844059ab858e729af27e13",
            "2ead618fc99c4eb6b8fde3b00f205314",
            "d0dc688bb3474a6fa20440893b1dc06c",
            "47ecc9dd3dda45d4ae18db3770ebf7f2",
            "d2ee5c120fb14741a46ac3a101dc235d",
            "c4a81e86f16845f68ca68eb23fd09112",
            "1c3d057647f744f89be4005524ab029a",
            "9725853efed5484e989271f3e275c864",
            "e402dd6ba7b44de698accc8f2a321de4",
            "9ecc3a71b3444d8a8aca5fead3438249",
            "56395ead9960489fa232b816e309daa4",
            "c102596cc20048b0b2ab85ade33de8f5",
            "b9a6450a984743058c5dd7a5346b9537",
            "107626685d2e4aa6ba25430e7860c941",
            "387a986a3303468ca86d052c49926a8b",
            "47497be7da054253a15e291ea10fa0e6",
            "2924e415a47045a8935c22f175211bea",
            "f3465238a7bb4223b210c367b59e41bc",
            "2e837489e6c0482fab873fa1d228bee9",
            "1acf9e98220a4f9fbf35dd125de52538",
            "00594ce87d4149b4821ccb8d018d41e5",
            "92b5a3a9b74d4d11875decfadfb7fd48",
            "21ba578b35da420a86e7205d18fce801",
            "2e0511542855430385fad22a55043098",
            "0aa438241b2d47c6bf86a247a3859a56",
            "9bc2a8ea3f1f4f059e269efd8c39eb30",
            "9aab73a8e61847b8a7151d21b3546b5c",
            "1178ea9e118a4d83a63230d0aab3b69d",
            "ad3107f2d01943f88b8d837155582a85",
            "ef9cc13d98aa4e93878ad847c786f089",
            "9586a693ac2c43b6bb7981f9b6a0e9c4",
            "ce932849350c4fc196b7693219bd34b7",
            "c261a751b6bc47b08fd1d1a66c68ea31",
            "5f342cfa59804e25a85e45d44e268155",
            "286d86ec8e0343c4945fbc21597438c5",
            "a786d13e510748fa80425e95f75a77da",
            "4868c38844b64027a4697094272341c0",
            "ff4df76fb5f244fd9375becc7c9964d7",
            "569c4a3fa5aa4aef848c64e1547f964e",
            "82d5909253b54b7582e30d8d1304951f",
            "15d50478c80e42c2b214ce5b9867f25f",
            "a3bbd35921e24a55971d069de73ddfe9",
            "c6560790bf234163a7275307d4edb710",
            "85d61528628b4bfdba1b14792e3c05b9",
            "3921798f920c425ab215c18170d96b79",
            "1d5d068ea0914f4c8305fa8affcde281",
            "58b1a050584c42c09714d5a45ea7c2f8",
            "116947c2b62848d190ed23f50845ad9d",
            "004520e0716641de9b87d2d155cb81d1",
            "63b29f6f4433443d9e3d415b92771376",
            "c96cef7ea6a245cc88a5ea3d0168303e",
            "331ae58e2258485fa56685d20930db99",
            "0660b478e4524ad7acc605fac80746d6",
            "33fba9b2219d47dea0ab5cfca1213b85",
            "5d2d91a5b07a4fb8a6c2fa4de264a043",
            "4c6c9443dc7c4019ac8985cb6815ee48",
            "83dd65d5464f403b8af8634b36e82ac0",
            "bdd96743c86548bc9f4fd8be3813b2da",
            "6c1171b648be4f008ad108dce8628e0d",
            "fde39a187a7c463188dc6e5cea90b2e6",
            "5d5a5676294e4251ae61164cfd1b730b",
            "3a69960c42534259b4e58aa7e205106f",
            "f5a2d7f0bf7c4741891313961ad7faf6",
            "892690e8278d4fcea1c04490712b6b79",
            "89b072e14a3649cb8d4ed39d3d2b8ddd",
            "96adb2fad5734b7b874ece06a2599594",
            "c02485bb11624d9cb07b4e634829dc9e",
            "7d87efc2f86e40bfb581060e2ca4a1a9",
            "b327f455479e41359e393a8928c7578b",
            "43b04a621b924429a73b55362c6504f1",
            "190e7011ef4e4e5390e5244938ea0ace",
            "76f6c3ca5a8d4bc88c50ee1cb1271fa0",
            "9a3abd93b5764918a6e06d7fa6276c7e",
            "a93987360b104d82a3a864e44227fd26",
            "2bf7ae7d59724d73909bc9aa0e1b0550",
            "07e0912856a04f109832d909d96a1639",
            "a3e322c4d37b4fea930ec7a610cfc4ab",
            "0e3890f392e94a548f78af4acaa0fe40",
            "f70ab697aaaa4d8388cad0530363fa33",
            "71a39ece2ef74070af24fae7a26261ef",
            "c14b6a43e2a24943852e60641bebfb50",
            "376d13d94b8b47a392b3fc7e8c6e65b3",
            "45850740b2e845e8bfcb3bfa34ede4f8",
            "9fcb4d3d447f4ad994944b026b6038be",
            "71fb71433be5478d83b398206826eed4",
            "eab62026640c46d59eb2229640ad37a8",
            "3eb39794ba60432bad738aff095c411c",
            "244daef658964cae8a1b23f1a4832be4",
            "8825aed13df34bb9baa8020ca4722b45",
            "9396530a92e64e10ac636a93d0fe57d1",
            "0d79791e4c6e49f28484647171909b24",
            "5ff1377d6684450085581540163412f9",
            "fbeb0d339ec24b9794f201a668aefd6c",
            "4429d4c429c74ca0ae1020d60c0f4d6d",
            "d5c754f52f854ec8ba89e80947863aa8",
            "4db321ac15af4c599f22e8e4f0edcc21",
            "950403efb8604551923465f01d642537",
            "68c85dbafa0b46839ba56d29df9e92c3",
            "97dcd5d7b8b8479bb655948771b5bd12",
            "ae33428092e44ff8a1a23ba396c9e629",
            "8e7bf6e1129846c7bc98d260fcdbaf9e",
            "3f3f3d5476d34eff9cb350a34b5a55a2",
            "feb57641ced445e7a570bb1b62009b99",
            "d288b1725438474dadceed402c2a2220",
            "e611e42da672490cb0dd5699c078b9f6",
            "e0925709076e465abc8f59bf45f8dbdf",
            "f3dbf46764f14df4a292df2627632b73",
            "8a0280cac8234874b0355e945491c14d",
            "f569f5bd4dd54b1aafd3e5432821991e",
            "ad621179b94d4c20808b2862830798c2",
            "54060851050e4e6f9bf957307ecca624",
            "5a77fafc1138438faaa572e28bf1d23a",
            "394df75a3dc04b4395816c8472eef66e",
            "80609580aa3a49d2898d7a761c635beb",
            "c0c1e01f120448d9a92745704599a3d4",
            "a03c877758924811b00ffa7da688c8bb",
            "f6f23f2739ec46628972ed6a28b72305",
            "42ce2fbf80f449d58a4c621b99308597",
            "c82e252919e649eeb2df3eeeab3c2d35",
            "ef8d16ae3e474a6da80bea724c7e0085",
            "bad679c2efe04a7291953d98ca21419d",
            "ecad3701e6c64d7b84bbbc3ff8e71224",
            "bf3946bd18674571957b69c7f7d0c505",
            "37c4340ebc814bc8903accdad6366cc1",
            "370b5ba4f9a74d6597a61408c0ecc135",
            "3c43aae5631d461788b94254dce15be8",
            "7dbca7c2315b42b6a2a1d53319c4017b",
            "3cea0f5508c14843b859bc508d46df72",
            "e5b472c8fae7450ca6909d277dcc6ea8",
            "c06f646b653f457298383ce9a0a61d34",
            "96f73112c6d647aa9e289170985aa36a",
            "2d5869902ffb4a4b9125594863de3df9",
            "1cf8f979468e4262bd66fbd99c1126c5",
            "8237469c341c4ca7aef8e57a9098322e",
            "7e469161dc0b4e038c26e1f78b727e4f",
            "28c2813cde134ee683e1171b912e4be1",
            "b400ced9aa034a27ae0442754d44d4bc",
            "663443d5fcf6449191af02960a46fe31",
            "3b7542f6d2904e128e2f2960001e7d76",
            "ad48a9cd39f94616bd056763f349e590",
            "5648334dddbd497c939587b6fc94227e",
            "70a823ccdfa6404494dd1e7bb8a3d64d",
            "fbbe3fc0db18469eaaf0cb15082bb1e9",
            "e9677c553d28470c81f2b731d9caf8dd",
            "1b91d6575e33430487a1cf2f17380fe0",
            "92970eadbf2b4b84a83790c8d64f07fe",
            "9c0de88d36934c63bb1d1fe9d5571290",
            "5586973697f241799f4e2056bc750e29",
            "02ae9afc32404e9d8fa8891e43af49fc",
            "7d042a27c7634d11a2b1ca01177843ac",
            "38579b9fc3f04c06a6ff6707b7f70545",
            "7da0c54d6a1f4b458322b951c22d3371",
            "2e4019bd89ad483189f6bd0dacc82e00",
            "ce28d83853a74719a73ce0ea80ae725e",
            "029296811449423d9a9c786ac7d132ad",
            "e2dcb10626ec491fb4b629a48831b691",
            "2f74df88165a4f3db5a21725d36ee32b",
            "3ca0d32e109f461d8bddff4c7363a590",
            "8b1ce3389c47445e94e4981cacf9f390",
            "d6e6a9c0495f4e2a8a1bf28599b7fc9e",
            "1ec94556c6c04277a66464f4e938ca11",
            "706aef4bbae846af92e9e3e78e93318a",
            "e006e71c34a54d2f8b9a0cb43707931f",
            "a9109d88e9a542dc8e767daaf9d07cb6",
            "06863c49ed194644867cad04caeda5d6",
            "42b57af41291445287d815aeaa9de012",
            "a455fd69889948039b89003f3efa110a",
            "1d5128789c1f4fc8942ba7a1847b6a04",
            "8fe6896b856347d6bd1c0d04d032fc03",
            "38aa9553e9df42f4afdf9102188752b7",
            "6d29ba34bef24a53a49f9257a6e66c26",
            "d30b93599fb54250bd0104793a1d9760",
            "fc9d70cd2b124f9c9a1d44e5f1930eb2",
            "7f8b295882d743ed9e3c5388107a7345",
            "a1d67ec5cbce473aa7a0ac61cd7aa216",
            "2e1d53e7111249a9b3f46dfff67a26d9",
            "c4c35298940743b8bb507982ea2de864",
            "2d818a2448a8417caad6622c7d4072be",
            "d8b4195ecf624765bb46aa86cac03c83",
            "46fce092fd18456898c882fe03293c81",
            "ab6578b181894558bf119a4251e9e693",
            "9b524a9882eb401083c82eff24501d29",
            "1f3724ae6bb0490ebac9a336bc5e13bd",
            "df045289f732424fae29269d5613a3b3",
            "be77bf6de8204893b750f7e1d0de848c",
            "441792f831c9490dbab16a3676d73859",
            "8cf23053076240de96f6ad37d5e3b1cc",
            "37002716eaa6487e961250b25d0bd995",
            "0f8ee21b6d464029bc8dffc7a9ace6d8",
            "7a4ca66ca26244469696e4aac4217a34",
            "9e5b56472f2e4461930b163284804aac",
            "644c82474d064a29902ab1d9b95c4dee",
            "784811b59c584f40906cd352f20b63d0",
            "2bb38aaa208244d38eba4d5aa9346e54",
            "c78309edd43a4c3a9522bbb5ca8c76d2",
            "7557cc8a44b6420fa75ae0ebcfdf0caf",
            "86d0c8ba54ac42bea34a2e2484d86248",
            "b2e9470be2b74f029265f95c88fe005e",
            "74cb3638d5964ed7928c3adab6ea057f",
            "8afe94c0386147d0a88889fe194cd803",
            "dd667b3e178b413db7d76a9aea38c166",
            "b8e6065a5edb428e94f67f74c28ab471",
            "f6be5454f83d4d3287354e2fd8099f63",
            "bdcc582a5f5040dc9278f4ecb4256c9a",
            "b7a829c916f5485b8f958050f07660b8",
            "ec03af1f5df1482c849fef67ed10c47f",
            "67ae2f11b71546d49e74c8079bcd91d8",
            "63a9484537744205b178801cfeba1af8",
            "97b372f4cc07476391246b3a35e5a702",
            "b439a71d75544d5e9f32645c61ad41b9",
            "5bc93974be0e405992f1ed75fa0bb3ff",
            "5bbb17f605ef4dc385869f4ace0be3e9",
            "0ca5601e984c4701b5d53d64ec90f815",
            "11c73acb89f04e6fb1fed2a2eee20e46",
            "c81be4a8b4054626967ba2c70c5743df",
            "b65195e6333b450293c45681097a0352",
            "925bc78f5c6b4b7dae1bf107f203df1f",
            "6999ca5520c94b61889973f4344b4bef",
            "703c4ec1be4649888be7e0d90acd2504",
            "e000cb4d2f60461187c6d1909a96692e",
            "9e585396ed214780a7cb71d986b30080",
            "7d6805e797de472783d8549f1f57ac5a",
            "d7629e6a0aff4b6f992b7eb3137f383c",
            "165b680d5b5045419b9cfb73fe985d5d",
            "791a856ab0ad49c0bb0df3963c926fee",
            "a706b6c70f6645fca8dd044ead17b3fa",
            "9ec5397c9c114471a77a18d292b4ed5d",
            "f75ae4ec60164cabb21cc9a65956a896",
            "728a27e202134b87ae001048acb1c3e8",
            "2ef39fadea8648668dd7811509228ef6",
            "25e9dcc09ba54757924b655669af6388",
            "d470477c787a4194a586a39b864dfb50",
            "f328346eb5f340308530eba2af7a0346",
            "e45097d8f48643c7ac33f45634b0699a",
            "31291ac389944b79b98143e705dc8455",
            "e5700456b6ab472594dcc50cab376478",
            "e1e895a767f14668b2871a28639f85db",
            "5028003c97134b0a864a99bab2c99582",
            "87a7ed177a9b4c868fbeec96ee5662fc",
            "a76d5d09200b48fa8e662138a2d463f7",
            "639bf16d90c94a3a9912f4f3300c627b",
            "6662bbcf3c3a4ed197e6c3f1be0157c5",
            "dc524005d5954e56b6e33fb55974d55f",
            "fbb21a5cafbf4144a15e1912b718f5b0",
            "017232b0bb4b4e96859af40747bf0815",
            "7cef03519b4a4e3e81819bd7cb490d5b",
            "faf2e4c7febb45b7903e1ac983da0c1f",
            "0287d53bca0343d4b2fd45d33be31769",
            "e541f0e5ec184cccb4615fe05cc8cab2",
            "af0374c66d6c44a9bee253d84d19f2c0",
            "ae3e9b6a8ae64b008a66903c96cee2ae",
            "c7cde669c4c04c4ea7eb706813fe08f4",
            "6756aad149e041ee842d7018900c6db2",
            "e4b7feddc7c14756ac4b098b48025dfa",
            "d787328b4f534f5f9c1a39ae4eec59a7",
            "678c51fb6e304c2489951cba3ec044c5",
            "86582859adfd4648a48ce2b9e08686b4",
            "969f3e0cd0e34ab4a27c656132818c18",
            "23f28a0db2ae46adbd03a1798128fa6c",
            "a00a4141122d4936b37e8872fec4a43c",
            "fcc3ea252d8a41e3a4a91529ec0f6d49",
            "a4c179c752344cd18f4473cac0383a37",
            "6b99296cbf074d4e89d419367deee9a9",
            "5118d14e9e244453b7e6d8a0b917e95e",
            "4e9283209a114e9e8f6cc383399d1f37",
            "5d52dc41ce684ea89427458ed8a5d0ab",
            "913748a1b30043a18bfd5d7445559abb",
            "89494d051afc4f42b610b9c5bb151c5d",
            "2af08c1d99e842e8a038c0d581a6aad7",
            "1bcfdfd4857348f1b8dca9affb0d818c",
            "a143512c95a44f21a7efe187a11dfea7",
            "71f555411b5d4e63a6f0c3e7b445d412",
            "08871f19adff469293b4ddedf1be791a",
            "921ef463f89f41759941f1a9698cd1b9",
            "b260ea7d94ac4011b0150f505d483c3f",
            "547f8c282b6f413f98e0f3e014144e04",
            "397a730a5db6479596b9ea63bd8ac0a4",
            "90ced0ca6b89439d88b1a5f9fb3f9c02",
            "a84bd778d9dd45f8b53a18523ed535dc",
            "f746dbae9b15419eada5b8f6c62a5710",
            "acd33ed602e943eb85bdb0af008121c5",
            "1938094fc4a446fdb287818ee66b1355",
            "5e08d952325f4bda83dc3cffbcaa93c0",
            "f1dc775d701b4219abf0f34a138a5463",
            "fbb8d81e74dd46e79ac40ea1c63d2844",
            "b73b6b5040ca4addbcc579a54f079d12",
            "bd42e662fea745538e19f66e452a35b9",
            "aa00f67df05441f490aaf6dc92520315",
            "c1db275f65bd4fe58343ad40af0249a4",
            "6299f39f118d49bf8f0074292d57fe4b",
            "7f78c243113e41248b5e216310f17e2e",
            "43bb88acfb784647aabe5a32a7661754",
            "cee01539c78b477ba89cb8f352be5da7",
            "cf6b6d8c143e48249830e0e24d7bc1b0",
            "92b276dcdc4441ff9c19a2ad62531155",
            "58a2b35ad33a44309909021691f5aa53",
            "ad73a6e8147c4b20a7cdb0df1453638f",
            "73930b3de737442e9ce69619a1f7a20b",
            "ae90c8796a0f471da89f271838bc7839",
            "66fd5a3b319a40ea9e994766541f8cd9",
            "0289e41f052244269d34b189cdb3eecf",
            "75646c75ba8a4173861f3c570d6d7f5b",
            "9ccaf5be966d457ebb85ece6783a4b59",
            "37970d541b144529b5b01b7982afb749",
            "62f8a26e2a29498d9d821c3156817717",
            "f69061e7bf0944c18d617fca8008a303",
            "846eaa41704540db807112a7f988f0b6",
            "e32a76f863724ec5bc5c50e892a5af6d",
            "bd640847e7d94e6a9f276f6300547565",
            "0f3c44893c6a4956a8772012d19b906e",
            "630200a5c7a74b18b4907b529fcdb960",
            "f3845aed25704c34a9b2d45afb97f6c7",
            "098a414a27754c72aabcdf753ece1e4f",
            "40920bdf6b194815ae31cbd27e82c3c2",
            "8185a371cbfd4120acb77dfe489e47d1",
            "ab727e1ebcf74ffdb15256d51a373ebe",
            "fcc73c8414164c6ab646e1f178001487",
            "1e8dfe68a43a4fff9a2544db4c7c5763",
            "ea0eabc6d01b49dda76bf426e783a58a",
            "d48d3801552a4a0496db0e2f7fc2d011",
            "565c4ccdd5bb4348a3d7c0f8c525ac8b",
            "6415d0959e2844f1a5d236987528a98f",
            "c582770ebe19458eb5e5c3e32caeddf8",
            "6480a02c787b4ae4a928a055ded96812",
            "af571b088acf4b30b77d469eaa9674f8",
            "dccd03228f2540f080a2b44afa64a325",
            "55703385bfe74e3682a622d9dc5b95a7",
            "837bc37890db4a608a52ee71ad8fb393",
            "28739b205e304f239a1b75f58791ecde",
            "808cde632d11462aab03b23e6e923303",
            "246138ea864b44ea9aa9b7ef7b1e4674",
            "3b5c80066694440f80832c6e6d0c4e25",
            "465624a6cc714c4faaff27ea9915002a",
            "50ac618ff7dd468786c708d8cf8eafbb",
            "1913acb3a0354c6587a5c28f81f6a65d",
            "c3f21b53d7a94eef93fb0cef56ecb744",
            "139fb71e3f9d4ab4a48a1e90518cac02",
            "cead9df6665e442a8b5388e715f2e120",
            "1738a6f26f32492c9ae13819311a4cc5",
            "4ffd4999f6ff4c4db71dae7997d11233",
            "61c07e27c443483ca63736e991a3fa71",
            "8398e978de3d4a4283a12c709e723a79",
            "b00df0c67be943269689834b4e1e51bc",
            "a601e7cfb5ac4d919e795d4639671697",
            "463e9b6b6c5944f0bb50ae940b2a157e",
            "0d691fe140d74355a7f1e6f1ab6633a8",
            "e2bdd9428be34b79bc018c38e08dd9db",
            "d3a8955274ad415894a03caeebf762ca",
            "ce7e35e455ce4603ab07b08fd7c099dd",
            "ee9c19348d75473e978e65c8f8414fec",
            "f1c22896c20c4ffab6b224b6a42bed7c",
            "764f222cf9d344febd87ed1784f7b9d6",
            "106a88ad092641f7a1f6cce2410c9e55",
            "35f14d93a4c6473fa25eef02a0ce69d9",
            "ed492430e507426bba9a0ef85541ff71",
            "89c4de043edb4d1b902a7b4f0b0bb89c",
            "121bd7dc7c1144af8193aa3e159c54b3",
            "515009d3b6d14062abf33feb429a8700",
            "bd9c1228916846edae6c583494fe4334",
            "4d6715670b1e4ecc866a14a90e59d188",
            "944e0569290c4e9484ba935c02a5899a",
            "495cefaeb8724e5fb0d95ebe5799df95",
            "b1c24e798e0549fb86501f1f4af22e33",
            "4bf3b7403e8b4bf6b96aa55bc8fb9d0d",
            "1e3365d01e454d1f944dc9b7aa93070f",
            "8098155975004793881924a55756ea10",
            "21918be2c4f348138a5f307e08127f6b",
            "928f80fc5b774de5ad819788ac11ed30",
            "aa8401237876411abef36de0cbb3d1a1",
            "54a317d667dd4709a74bc4a2de09720c",
            "b92a09666c6445eaa83ab416c51ce9ae",
            "91147f0ddd7c418c807531b474adab9f",
            "199e940bdad54c0795b02b447c8b3e4a",
            "4e347f22ad8e4962bcf139bc5e602017",
            "b274b631b4eb41c3a58cce48dd65a137",
            "e8b0afd077ee4a7d9d4e8952b6b5597b",
            "04de3ab5ec474ed39dde4c64c77cd009",
            "b8be799cd8fa4a9b9428b641c996f035",
            "76ecc97994ae493da1552b6be4baafd6",
            "bb9baa3d568449fb8c211ff1d938af08",
            "3000af3e5ec140cb9ece62777989d54b",
            "dcde20a74e404d58b468fa12083e0722",
            "96feb17d8caf43d3ada336bf2a89401d",
            "cf382b852e774ed4ad5679ccc6a4ad94",
            "42e48005bfdb486aba2dc5e8031ccd37",
            "e90b9a3f41d34396b2aded3fa7bbfc5a",
            "dda489e2ac7f4c609805e5c01119d484",
            "54e82705deb04d39b7d7c086d5efbc24",
            "3c69e6a6055e45ea9c0f1908731ff3c3",
            "0fa52b0715fe4635bb937568753cc765",
            "3c76a38752914f63b7af20f944bb38ca",
            "1bbde88e3b99474eacf129e5ba9e6e9d",
            "4e9ce7e8dbb042fca5ac91a20c580ea6",
            "eb9824b3762e4aa09439f5f84f4cca0d",
            "81cf4ad54cc3424695aa8e4438b4858d",
            "ea7560a7eeb2449e9b1b19d22005e874",
            "0d8de79133b348859559e37a915453df",
            "e88d58b3ed49420e993ce8040e505a37",
            "5bdb2c13dafa4287b49357178207fd70",
            "c81265fef9de45d1b0abca9ecf93d875",
            "020a6e1437ab4639a9ffea0fc9f25b72",
            "b55efc881cc34b169de83a5bce585fdd",
            "f7d0453719054d4a8999c18098bb6549",
            "440d3615885a47ba89e84bf9d1bb13e0",
            "70203f2efd89487c88fca4382f6713d4",
            "157c47e74fe3488da00bcfea29b8c639",
            "e5bae6f5c4a543d58317009714971056",
            "39d3a7b430ea478db3bcc94b613d2789",
            "a549455c42ba47b7b26b53cb72cef4d1",
            "748dc675073b419ca8ebc02f05c5944c",
            "f9a442a93b454b92861f4486df190430",
            "88043a2b79784569a35fff4fab30670b",
            "dc66f7b3b59e4f84be376b243049ea2a",
            "ac20c921fe5f40e0a1615787e63d6928",
            "83f3556b3c7240afba195a81d87ac03a",
            "c4659a2286c84ef7bf3200b10e0fdd98",
            "d1d0cc414ee747758266693b5eedda3e",
            "b439d73d12d74e2c99fa305e5b33ab24",
            "dfdbd530f81b49de934dcef09f8b975d",
            "9d6004bd77c64744b20098cd3e51e5b5",
            "707bd2f9a5a045d8bbe8d9764e1b45bd",
            "97c6fbcd1fa248b2bfda2c87574d5ca3",
            "867c12cc3b894fadb7d53b33afea9224",
            "34706c2c00e64c268c32c3d138099bc6",
            "404493a175fb484c960a49d819ebce0e",
            "aa0b101a9b7f4609b73f8d47bc9c883c",
            "3e1569922ecc4f149a54c39b65648340",
            "85fc8e0fe67c4eda941dedf1a5444c46",
            "d63bea79b0c845da8e2d03c7eb5a8734",
            "6c82e419124545c6861afc33187b1d61",
            "87c5b82f94a8402a8804b4289d89556a",
            "85c6d5a8f8a2424bb2595555a495b01b",
            "185b130c15134c53aa9ba66c681913d1",
            "e3f04139eb99474bb8461098a23770b1",
            "bbddb9bd90554f87a082a4d4528ccff9",
            "bfb32cd2b2aa4b0196a3b2d2ca5e0632",
            "51d082993a5f4b8d89d17ea673df7a22",
            "57272ba03c964505933bcc35041344f5",
            "75350e1e3c0c44bf8d1b2d6254594b76",
            "1261b1f3b8574a899c603272944a8223",
            "dd13985e188c431a830e150a89b378d5",
            "b42254ed4337480586f9c626e33c5027",
            "aff8c57d04be4c6caac430c52fb8a1a1",
            "4c1d5e47f13f40ad9ed43941f1ca8a18",
            "d526499702a4469282b68a9614ed6e37",
            "0281a50f7ce741fe9e6c54e3c3efe584",
            "823dcf18228849b2b4ed787c238827f1",
            "0fc4eac45bcd404c8ed937677346be19",
            "c5f262bee278451aa0badf4288d94646",
            "f475e376ddf649b2a1a6161eeb1f2d99",
            "cad8d7753f9f4f45b6a195e5a535eac3",
            "6b444356b31e46538d1fdb79ab13bcb7",
            "920f5528c13e4119808872ccaddc81ae",
            "c5eacb5b649f4dc09f175446d9e5f2f4",
            "eff51efe6bd946839601569d25437bbc",
            "82411ee26cf640e89930e7e883d50f10",
            "fef25de2e7a8459685b571e59fc79f92",
            "4b7a6817c7254ca68450e6f905c0ec8b",
            "ad936294a1834078b96a60e50a60d2a4",
            "670fe57050004c7ba80f2a62cf214ef8",
            "f0c00ef9874948f28026bc2fd23d3203",
            "39bae1474f7747099cd78006b3a63362",
            "442fb5a4b039416594c9734f2de0e32d",
            "2f7ea4cf9aeb442ab13ed0c2a610acc0",
            "295cb85dc1b04a0aa7f2094c29e6abe5",
            "cd7a26e5018e4906be93901864c72d9d",
            "223c68e2eb784f8899656ff7349541db",
            "165e2bfb481c4f24a826480f1eccc766",
            "a07fae785041490c8ff9ff6fb6f09f39",
            "2bec9fa1337d4a5cbeed228b37e95903",
            "3d929f62b26141fca99c780f698fe8d2",
            "b33b0f39be3b43ae942d1ff2a8a102ec",
            "2a8a41f0f19a42c59fb01210af6a8445",
            "210c727925af43eab10b120568628dee",
            "a37564f4e93a4bc89317badd1083aeda",
            "e0abbfc134ca49e8aee0e3257eaf2029",
            "6af8c1aa217b42bf9a63ec12c4b8f8df",
            "cb4dc66f8bc7406aaf3a94a4fc7373fe",
            "b0b693c3a4044d6bb9f19d320c4fb3bf",
            "806f70846f5741c2b453701e5dcff727",
            "7b49ce2a6dd14311883bb13b0157bdaf",
            "3c12a769d821412a961d563a6deff499",
            "587ac786688c4650b9d1e0ef13b72395",
            "4e6df7ba98904e0cb0ab520b9113aea7",
            "90400bfe0c7741ed9f6029d14f18f3a5",
            "58d237c77d6641cdb0983cd5f40b7175",
            "c2acf8c751704879bc3501b7a87f5f5a",
            "70258cec84c241f789c267676dd21bec",
            "0410da866c034226a1fbf6f95e14e7bd",
            "c748dbabf15f44ef93c77d59f280c1b4",
            "e3bc01c3b3fc4c4f976bbb21b6fdc181",
            "870241cdc5fb4105857ea28dfb5a4ce3",
            "2229663f54744c7fb9b1b503037c1dee",
            "ed11a3dd27ba4cbabb5eaa6edda4f940",
            "43c774d76a05498fa6764cdae0865cd1",
            "4ade4d8b20fd4ca9bd9447addfe616b1",
            "1eb069816e4a45a7b55d3cf1cc16ae50",
            "8780b58e269a40cb8bb588aff14a5900",
            "7ee99e420ae84084a4bf4b8e3ec802fe",
            "cbaa0a4376e1469b9f35fee8299f01a7",
            "fa6c7cd37da5493b865d59895c80c76e",
            "ea81f700c0504544b2c005b13c38f0c0",
            "27d9be17ba664419ae0ca297dddd52d9",
            "4ecdaf339c0e4a3694da053134ab9637",
            "17616e92e91a486892b673fc947a16e8",
            "5c67fc7a82e8445a87e0591dd7fe1915",
            "dae1184609ba42569f763b0bcc4a7815",
            "3907a9dae6084d5e9129bff23b19a5bc",
            "aafc678838a5437c9b5b9d6ca1d94f04",
            "96b15d66f33444cc99365233ca9736f6",
            "a51de89d593448f99edcca56b8416ba8",
            "c6afff666d2d418fa41ecc53c396f515",
            "cf6a43490db0409184a132fdffb1734e",
            "59b37cbcdd2d4e43a31d0dbfd2cfcaeb",
            "54c223363d294289ab525233fe723558",
            "fe94e34ee45145a280dec5d9eadabadd",
            "905cfd9624bd46d9b778aecb21df1bca",
            "a8fabf20846b4ffba15cbe6fdbcd0c36",
            "670f116195034eef9bb17c8b2ba04568",
            "b5519fe4dc444fbca5f2cd7cf75aff43",
            "6a006402697544c582718717ea06dad2",
            "4e7a6d0cabdc4672b518eadcc8b96f69",
            "8991f4c3836d4aafa0b40e3887dde2a4",
            "44bf2ad87a7b4b3a99d5d01193c0416c",
            "12ddcf8122ce4fb695f6f2311770befa",
            "84d3f27b6ebd430c8b2a3ef92840ed4c",
            "d5692b38513e42cdb828cdb3cd5bd886",
            "df0b2ba5040c48998beb14bc52f6474c",
            "ce82a1ab82b14641b9ca7e46458523d2",
            "5ef1c311559744a2947897f2cd1f8eca",
            "e3d7b68bca624370ae432216760b316f",
            "6feca78973ac4af7ab9def85a0204804",
            "0be9ee768e5447679561187721b31955",
            "22a6c14baecc4255b75e4f037bb53a0e",
            "7d4540b9fc5c4aafa25d512411c0f9ea",
            "630d676bd8f64f8194d9be4d9e7a2e7a",
            "8a4709bf17c04fdc8579b921a8cabf85",
            "efc8ae07a30b42ab94f69ea31fc79d1a",
            "0af6cf1cab6a4ccc8fff5da44c7deb3f",
            "4575f53494884cc88e919c66e07a1302",
            "3b97258564d64e6bba65e7decb6a1665",
            "7a458813c2aa41a48b22f634870deb82",
            "b2b1f33d56de47c486f1ae63c71f898c",
            "351d270cef364ad3b550bf6d7b5e9259",
            "d3393c981076465ba14f8cab8e7ccc20",
            "2c8c5c43e4d54e1bbdfdc3090c1edf85",
            "c77391cf1a83433f9d60a6ead3cd67b7",
            "d78226b562b2449aa7471f74849cdaee",
            "7b6fa90f5a6b4a8c811e290b32552f87",
            "528763d3fbf645d0823f6138bf50ca8b",
            "094b75d9c89b4bb48c99f85af729e4ee",
            "270c02aad064454f8de1244212593709",
            "6eb0c69199704436bcdbdcaa707624d9",
            "6ed54ceb1670454096e47ec9e2f4aa37",
            "3c9bfb945c8c4a3496eba2cf8d4b9ae0",
            "73e9d78567654302ac2abe3eab869794"
          ]
        },
        "id": "OjaGbFBa2v73",
        "outputId": "bb5d1227-ea62-46ef-c28b-febb076d8697"
      },
      "execution_count": null,
      "outputs": [
        {
          "output_type": "display_data",
          "data": {
            "text/plain": [
              "Epoch::   0%|          | 0/30 [00:00<?, ?it/s]"
            ],
            "application/vnd.jupyter.widget-view+json": {
              "version_major": 2,
              "version_minor": 0,
              "model_id": "1209950ce0524d4491a6f93612bc3fad"
            }
          },
          "metadata": {}
        },
        {
          "output_type": "display_data",
          "data": {
            "text/plain": [
              "train iter::   0%|          | 0/191 [00:00<?, ?it/s]"
            ],
            "application/vnd.jupyter.widget-view+json": {
              "version_major": 2,
              "version_minor": 0,
              "model_id": "7b3bf4f7135f42f99ef2226bc8d05c6d"
            }
          },
          "metadata": {}
        },
        {
          "output_type": "stream",
          "name": "stdout",
          "text": [
            "train Loss: 5.2198 Acc: 0.0680\n"
          ]
        },
        {
          "output_type": "display_data",
          "data": {
            "text/plain": [
              "val iter::   0%|          | 0/48 [00:00<?, ?it/s]"
            ],
            "application/vnd.jupyter.widget-view+json": {
              "version_major": 2,
              "version_minor": 0,
              "model_id": "69fbfd7680274910bc8f775b06054326"
            }
          },
          "metadata": {}
        },
        {
          "output_type": "stream",
          "name": "stdout",
          "text": [
            "val Loss: 4.4075 Acc: 0.1278\n"
          ]
        },
        {
          "output_type": "display_data",
          "data": {
            "text/plain": [
              "train iter::   0%|          | 0/191 [00:00<?, ?it/s]"
            ],
            "application/vnd.jupyter.widget-view+json": {
              "version_major": 2,
              "version_minor": 0,
              "model_id": "291f6aed2b604a2a80289abb5228c596"
            }
          },
          "metadata": {}
        },
        {
          "output_type": "stream",
          "name": "stdout",
          "text": [
            "train Loss: 3.7594 Acc: 0.2020\n"
          ]
        },
        {
          "output_type": "display_data",
          "data": {
            "text/plain": [
              "val iter::   0%|          | 0/48 [00:00<?, ?it/s]"
            ],
            "application/vnd.jupyter.widget-view+json": {
              "version_major": 2,
              "version_minor": 0,
              "model_id": "88af0f084b8f4a12931e98fc2dac5f94"
            }
          },
          "metadata": {}
        },
        {
          "output_type": "stream",
          "name": "stdout",
          "text": [
            "val Loss: 3.5484 Acc: 0.2461\n"
          ]
        },
        {
          "output_type": "display_data",
          "data": {
            "text/plain": [
              "train iter::   0%|          | 0/191 [00:00<?, ?it/s]"
            ],
            "application/vnd.jupyter.widget-view+json": {
              "version_major": 2,
              "version_minor": 0,
              "model_id": "3238beb6fa5a43548315fad8ae997488"
            }
          },
          "metadata": {}
        },
        {
          "output_type": "stream",
          "name": "stdout",
          "text": [
            "train Loss: 3.0898 Acc: 0.3138\n"
          ]
        },
        {
          "output_type": "display_data",
          "data": {
            "text/plain": [
              "val iter::   0%|          | 0/48 [00:00<?, ?it/s]"
            ],
            "application/vnd.jupyter.widget-view+json": {
              "version_major": 2,
              "version_minor": 0,
              "model_id": "5cfacd71d79447c58243a9fa6ca1acd3"
            }
          },
          "metadata": {}
        },
        {
          "output_type": "stream",
          "name": "stdout",
          "text": [
            "val Loss: 3.5047 Acc: 0.2701\n"
          ]
        },
        {
          "output_type": "display_data",
          "data": {
            "text/plain": [
              "train iter::   0%|          | 0/191 [00:00<?, ?it/s]"
            ],
            "application/vnd.jupyter.widget-view+json": {
              "version_major": 2,
              "version_minor": 0,
              "model_id": "ae28276968254614990b50dde8d06352"
            }
          },
          "metadata": {}
        },
        {
          "output_type": "stream",
          "name": "stdout",
          "text": [
            "train Loss: 2.6726 Acc: 0.3898\n"
          ]
        },
        {
          "output_type": "display_data",
          "data": {
            "text/plain": [
              "val iter::   0%|          | 0/48 [00:00<?, ?it/s]"
            ],
            "application/vnd.jupyter.widget-view+json": {
              "version_major": 2,
              "version_minor": 0,
              "model_id": "8c735671dd4a4b44a3dfba5edf70e6cf"
            }
          },
          "metadata": {}
        },
        {
          "output_type": "stream",
          "name": "stdout",
          "text": [
            "val Loss: 2.9265 Acc: 0.3559\n"
          ]
        },
        {
          "output_type": "display_data",
          "data": {
            "text/plain": [
              "train iter::   0%|          | 0/191 [00:00<?, ?it/s]"
            ],
            "application/vnd.jupyter.widget-view+json": {
              "version_major": 2,
              "version_minor": 0,
              "model_id": "aee332a207754978a3138df759eb305a"
            }
          },
          "metadata": {}
        },
        {
          "output_type": "stream",
          "name": "stdout",
          "text": [
            "train Loss: 2.4041 Acc: 0.4384\n"
          ]
        },
        {
          "output_type": "display_data",
          "data": {
            "text/plain": [
              "val iter::   0%|          | 0/48 [00:00<?, ?it/s]"
            ],
            "application/vnd.jupyter.widget-view+json": {
              "version_major": 2,
              "version_minor": 0,
              "model_id": "63c85d03b6d844f9bd4c8805c0c5ef62"
            }
          },
          "metadata": {}
        },
        {
          "output_type": "stream",
          "name": "stdout",
          "text": [
            "val Loss: 2.8328 Acc: 0.3854\n"
          ]
        },
        {
          "output_type": "display_data",
          "data": {
            "text/plain": [
              "train iter::   0%|          | 0/191 [00:00<?, ?it/s]"
            ],
            "application/vnd.jupyter.widget-view+json": {
              "version_major": 2,
              "version_minor": 0,
              "model_id": "1c3d057647f744f89be4005524ab029a"
            }
          },
          "metadata": {}
        },
        {
          "output_type": "stream",
          "name": "stdout",
          "text": [
            "train Loss: 2.1949 Acc: 0.4748\n"
          ]
        },
        {
          "output_type": "display_data",
          "data": {
            "text/plain": [
              "val iter::   0%|          | 0/48 [00:00<?, ?it/s]"
            ],
            "application/vnd.jupyter.widget-view+json": {
              "version_major": 2,
              "version_minor": 0,
              "model_id": "f3465238a7bb4223b210c367b59e41bc"
            }
          },
          "metadata": {}
        },
        {
          "output_type": "stream",
          "name": "stdout",
          "text": [
            "val Loss: 2.7061 Acc: 0.4113\n"
          ]
        },
        {
          "output_type": "display_data",
          "data": {
            "text/plain": [
              "train iter::   0%|          | 0/191 [00:00<?, ?it/s]"
            ],
            "application/vnd.jupyter.widget-view+json": {
              "version_major": 2,
              "version_minor": 0,
              "model_id": "ad3107f2d01943f88b8d837155582a85"
            }
          },
          "metadata": {}
        },
        {
          "output_type": "stream",
          "name": "stdout",
          "text": [
            "train Loss: 2.0284 Acc: 0.5020\n"
          ]
        },
        {
          "output_type": "display_data",
          "data": {
            "text/plain": [
              "val iter::   0%|          | 0/48 [00:00<?, ?it/s]"
            ],
            "application/vnd.jupyter.widget-view+json": {
              "version_major": 2,
              "version_minor": 0,
              "model_id": "82d5909253b54b7582e30d8d1304951f"
            }
          },
          "metadata": {}
        },
        {
          "output_type": "stream",
          "name": "stdout",
          "text": [
            "val Loss: 2.6375 Acc: 0.4205\n"
          ]
        },
        {
          "output_type": "display_data",
          "data": {
            "text/plain": [
              "train iter::   0%|          | 0/191 [00:00<?, ?it/s]"
            ],
            "application/vnd.jupyter.widget-view+json": {
              "version_major": 2,
              "version_minor": 0,
              "model_id": "c96cef7ea6a245cc88a5ea3d0168303e"
            }
          },
          "metadata": {}
        },
        {
          "output_type": "stream",
          "name": "stdout",
          "text": [
            "train Loss: 1.8645 Acc: 0.5448\n"
          ]
        },
        {
          "output_type": "display_data",
          "data": {
            "text/plain": [
              "val iter::   0%|          | 0/48 [00:00<?, ?it/s]"
            ],
            "application/vnd.jupyter.widget-view+json": {
              "version_major": 2,
              "version_minor": 0,
              "model_id": "3a69960c42534259b4e58aa7e205106f"
            }
          },
          "metadata": {}
        },
        {
          "output_type": "stream",
          "name": "stdout",
          "text": [
            "val Loss: 2.6446 Acc: 0.4146\n"
          ]
        },
        {
          "output_type": "display_data",
          "data": {
            "text/plain": [
              "train iter::   0%|          | 0/191 [00:00<?, ?it/s]"
            ],
            "application/vnd.jupyter.widget-view+json": {
              "version_major": 2,
              "version_minor": 0,
              "model_id": "9a3abd93b5764918a6e06d7fa6276c7e"
            }
          },
          "metadata": {}
        },
        {
          "output_type": "stream",
          "name": "stdout",
          "text": [
            "train Loss: 1.7766 Acc: 0.5553\n"
          ]
        },
        {
          "output_type": "display_data",
          "data": {
            "text/plain": [
              "val iter::   0%|          | 0/48 [00:00<?, ?it/s]"
            ],
            "application/vnd.jupyter.widget-view+json": {
              "version_major": 2,
              "version_minor": 0,
              "model_id": "9fcb4d3d447f4ad994944b026b6038be"
            }
          },
          "metadata": {}
        },
        {
          "output_type": "stream",
          "name": "stdout",
          "text": [
            "val Loss: 2.6085 Acc: 0.4333\n"
          ]
        },
        {
          "output_type": "display_data",
          "data": {
            "text/plain": [
              "train iter::   0%|          | 0/191 [00:00<?, ?it/s]"
            ],
            "application/vnd.jupyter.widget-view+json": {
              "version_major": 2,
              "version_minor": 0,
              "model_id": "d5c754f52f854ec8ba89e80947863aa8"
            }
          },
          "metadata": {}
        },
        {
          "output_type": "stream",
          "name": "stdout",
          "text": [
            "train Loss: 1.6437 Acc: 0.5812\n"
          ]
        },
        {
          "output_type": "display_data",
          "data": {
            "text/plain": [
              "val iter::   0%|          | 0/48 [00:00<?, ?it/s]"
            ],
            "application/vnd.jupyter.widget-view+json": {
              "version_major": 2,
              "version_minor": 0,
              "model_id": "e0925709076e465abc8f59bf45f8dbdf"
            }
          },
          "metadata": {}
        },
        {
          "output_type": "stream",
          "name": "stdout",
          "text": [
            "val Loss: 2.5460 Acc: 0.4497\n"
          ]
        },
        {
          "output_type": "display_data",
          "data": {
            "text/plain": [
              "train iter::   0%|          | 0/191 [00:00<?, ?it/s]"
            ],
            "application/vnd.jupyter.widget-view+json": {
              "version_major": 2,
              "version_minor": 0,
              "model_id": "f6f23f2739ec46628972ed6a28b72305"
            }
          },
          "metadata": {}
        },
        {
          "output_type": "stream",
          "name": "stdout",
          "text": [
            "train Loss: 1.5728 Acc: 0.5962\n"
          ]
        },
        {
          "output_type": "display_data",
          "data": {
            "text/plain": [
              "val iter::   0%|          | 0/48 [00:00<?, ?it/s]"
            ],
            "application/vnd.jupyter.widget-view+json": {
              "version_major": 2,
              "version_minor": 0,
              "model_id": "3cea0f5508c14843b859bc508d46df72"
            }
          },
          "metadata": {}
        },
        {
          "output_type": "stream",
          "name": "stdout",
          "text": [
            "val Loss: 2.5546 Acc: 0.4595\n"
          ]
        },
        {
          "output_type": "display_data",
          "data": {
            "text/plain": [
              "train iter::   0%|          | 0/191 [00:00<?, ?it/s]"
            ],
            "application/vnd.jupyter.widget-view+json": {
              "version_major": 2,
              "version_minor": 0,
              "model_id": "3b7542f6d2904e128e2f2960001e7d76"
            }
          },
          "metadata": {}
        },
        {
          "output_type": "stream",
          "name": "stdout",
          "text": [
            "train Loss: 1.4963 Acc: 0.6108\n"
          ]
        },
        {
          "output_type": "display_data",
          "data": {
            "text/plain": [
              "val iter::   0%|          | 0/48 [00:00<?, ?it/s]"
            ],
            "application/vnd.jupyter.widget-view+json": {
              "version_major": 2,
              "version_minor": 0,
              "model_id": "7d042a27c7634d11a2b1ca01177843ac"
            }
          },
          "metadata": {}
        },
        {
          "output_type": "stream",
          "name": "stdout",
          "text": [
            "val Loss: 2.5706 Acc: 0.4523\n"
          ]
        },
        {
          "output_type": "display_data",
          "data": {
            "text/plain": [
              "train iter::   0%|          | 0/191 [00:00<?, ?it/s]"
            ],
            "application/vnd.jupyter.widget-view+json": {
              "version_major": 2,
              "version_minor": 0,
              "model_id": "1ec94556c6c04277a66464f4e938ca11"
            }
          },
          "metadata": {}
        },
        {
          "output_type": "stream",
          "name": "stdout",
          "text": [
            "train Loss: 1.4214 Acc: 0.6280\n"
          ]
        },
        {
          "output_type": "display_data",
          "data": {
            "text/plain": [
              "val iter::   0%|          | 0/48 [00:00<?, ?it/s]"
            ],
            "application/vnd.jupyter.widget-view+json": {
              "version_major": 2,
              "version_minor": 0,
              "model_id": "d30b93599fb54250bd0104793a1d9760"
            }
          },
          "metadata": {}
        },
        {
          "output_type": "stream",
          "name": "stdout",
          "text": [
            "val Loss: 2.5324 Acc: 0.4595\n"
          ]
        },
        {
          "output_type": "display_data",
          "data": {
            "text/plain": [
              "train iter::   0%|          | 0/191 [00:00<?, ?it/s]"
            ],
            "application/vnd.jupyter.widget-view+json": {
              "version_major": 2,
              "version_minor": 0,
              "model_id": "1f3724ae6bb0490ebac9a336bc5e13bd"
            }
          },
          "metadata": {}
        },
        {
          "output_type": "stream",
          "name": "stdout",
          "text": [
            "train Loss: 1.3322 Acc: 0.6463\n"
          ]
        },
        {
          "output_type": "display_data",
          "data": {
            "text/plain": [
              "val iter::   0%|          | 0/48 [00:00<?, ?it/s]"
            ],
            "application/vnd.jupyter.widget-view+json": {
              "version_major": 2,
              "version_minor": 0,
              "model_id": "2bb38aaa208244d38eba4d5aa9346e54"
            }
          },
          "metadata": {}
        },
        {
          "output_type": "stream",
          "name": "stdout",
          "text": [
            "val Loss: 2.5407 Acc: 0.4608\n"
          ]
        },
        {
          "output_type": "display_data",
          "data": {
            "text/plain": [
              "train iter::   0%|          | 0/191 [00:00<?, ?it/s]"
            ],
            "application/vnd.jupyter.widget-view+json": {
              "version_major": 2,
              "version_minor": 0,
              "model_id": "b7a829c916f5485b8f958050f07660b8"
            }
          },
          "metadata": {}
        },
        {
          "output_type": "stream",
          "name": "stdout",
          "text": [
            "train Loss: 1.2690 Acc: 0.6631\n"
          ]
        },
        {
          "output_type": "display_data",
          "data": {
            "text/plain": [
              "val iter::   0%|          | 0/48 [00:00<?, ?it/s]"
            ],
            "application/vnd.jupyter.widget-view+json": {
              "version_major": 2,
              "version_minor": 0,
              "model_id": "b65195e6333b450293c45681097a0352"
            }
          },
          "metadata": {}
        },
        {
          "output_type": "stream",
          "name": "stdout",
          "text": [
            "val Loss: 2.5846 Acc: 0.4520\n"
          ]
        },
        {
          "output_type": "display_data",
          "data": {
            "text/plain": [
              "train iter::   0%|          | 0/191 [00:00<?, ?it/s]"
            ],
            "application/vnd.jupyter.widget-view+json": {
              "version_major": 2,
              "version_minor": 0,
              "model_id": "9ec5397c9c114471a77a18d292b4ed5d"
            }
          },
          "metadata": {}
        },
        {
          "output_type": "stream",
          "name": "stdout",
          "text": [
            "train Loss: 1.2351 Acc: 0.6714\n"
          ]
        },
        {
          "output_type": "display_data",
          "data": {
            "text/plain": [
              "val iter::   0%|          | 0/48 [00:00<?, ?it/s]"
            ],
            "application/vnd.jupyter.widget-view+json": {
              "version_major": 2,
              "version_minor": 0,
              "model_id": "5028003c97134b0a864a99bab2c99582"
            }
          },
          "metadata": {}
        },
        {
          "output_type": "stream",
          "name": "stdout",
          "text": [
            "val Loss: 2.5710 Acc: 0.4605\n"
          ]
        },
        {
          "output_type": "display_data",
          "data": {
            "text/plain": [
              "train iter::   0%|          | 0/191 [00:00<?, ?it/s]"
            ],
            "application/vnd.jupyter.widget-view+json": {
              "version_major": 2,
              "version_minor": 0,
              "model_id": "e541f0e5ec184cccb4615fe05cc8cab2"
            }
          },
          "metadata": {}
        },
        {
          "output_type": "stream",
          "name": "stdout",
          "text": [
            "train Loss: 1.1757 Acc: 0.6793\n"
          ]
        },
        {
          "output_type": "display_data",
          "data": {
            "text/plain": [
              "val iter::   0%|          | 0/48 [00:00<?, ?it/s]"
            ],
            "application/vnd.jupyter.widget-view+json": {
              "version_major": 2,
              "version_minor": 0,
              "model_id": "a00a4141122d4936b37e8872fec4a43c"
            }
          },
          "metadata": {}
        },
        {
          "output_type": "stream",
          "name": "stdout",
          "text": [
            "val Loss: 2.5337 Acc: 0.4635\n"
          ]
        },
        {
          "output_type": "display_data",
          "data": {
            "text/plain": [
              "train iter::   0%|          | 0/191 [00:00<?, ?it/s]"
            ],
            "application/vnd.jupyter.widget-view+json": {
              "version_major": 2,
              "version_minor": 0,
              "model_id": "a143512c95a44f21a7efe187a11dfea7"
            }
          },
          "metadata": {}
        },
        {
          "output_type": "stream",
          "name": "stdout",
          "text": [
            "train Loss: 1.1474 Acc: 0.6887\n"
          ]
        },
        {
          "output_type": "display_data",
          "data": {
            "text/plain": [
              "val iter::   0%|          | 0/48 [00:00<?, ?it/s]"
            ],
            "application/vnd.jupyter.widget-view+json": {
              "version_major": 2,
              "version_minor": 0,
              "model_id": "1938094fc4a446fdb287818ee66b1355"
            }
          },
          "metadata": {}
        },
        {
          "output_type": "stream",
          "name": "stdout",
          "text": [
            "val Loss: 2.4712 Acc: 0.4726\n"
          ]
        },
        {
          "output_type": "display_data",
          "data": {
            "text/plain": [
              "train iter::   0%|          | 0/191 [00:00<?, ?it/s]"
            ],
            "application/vnd.jupyter.widget-view+json": {
              "version_major": 2,
              "version_minor": 0,
              "model_id": "cee01539c78b477ba89cb8f352be5da7"
            }
          },
          "metadata": {}
        },
        {
          "output_type": "stream",
          "name": "stdout",
          "text": [
            "train Loss: 1.1039 Acc: 0.7036\n"
          ]
        },
        {
          "output_type": "display_data",
          "data": {
            "text/plain": [
              "val iter::   0%|          | 0/48 [00:00<?, ?it/s]"
            ],
            "application/vnd.jupyter.widget-view+json": {
              "version_major": 2,
              "version_minor": 0,
              "model_id": "37970d541b144529b5b01b7982afb749"
            }
          },
          "metadata": {}
        },
        {
          "output_type": "stream",
          "name": "stdout",
          "text": [
            "val Loss: 2.5217 Acc: 0.4815\n"
          ]
        },
        {
          "output_type": "display_data",
          "data": {
            "text/plain": [
              "train iter::   0%|          | 0/191 [00:00<?, ?it/s]"
            ],
            "application/vnd.jupyter.widget-view+json": {
              "version_major": 2,
              "version_minor": 0,
              "model_id": "8185a371cbfd4120acb77dfe489e47d1"
            }
          },
          "metadata": {}
        },
        {
          "output_type": "stream",
          "name": "stdout",
          "text": [
            "train Loss: 1.0490 Acc: 0.7109\n"
          ]
        },
        {
          "output_type": "display_data",
          "data": {
            "text/plain": [
              "val iter::   0%|          | 0/48 [00:00<?, ?it/s]"
            ],
            "application/vnd.jupyter.widget-view+json": {
              "version_major": 2,
              "version_minor": 0,
              "model_id": "dccd03228f2540f080a2b44afa64a325"
            }
          },
          "metadata": {}
        },
        {
          "output_type": "stream",
          "name": "stdout",
          "text": [
            "val Loss: 2.5519 Acc: 0.4759\n"
          ]
        },
        {
          "output_type": "display_data",
          "data": {
            "text/plain": [
              "train iter::   0%|          | 0/191 [00:00<?, ?it/s]"
            ],
            "application/vnd.jupyter.widget-view+json": {
              "version_major": 2,
              "version_minor": 0,
              "model_id": "139fb71e3f9d4ab4a48a1e90518cac02"
            }
          },
          "metadata": {}
        },
        {
          "output_type": "stream",
          "name": "stdout",
          "text": [
            "train Loss: 1.0049 Acc: 0.7237\n"
          ]
        },
        {
          "output_type": "display_data",
          "data": {
            "text/plain": [
              "val iter::   0%|          | 0/48 [00:00<?, ?it/s]"
            ],
            "application/vnd.jupyter.widget-view+json": {
              "version_major": 2,
              "version_minor": 0,
              "model_id": "d3a8955274ad415894a03caeebf762ca"
            }
          },
          "metadata": {}
        },
        {
          "output_type": "stream",
          "name": "stdout",
          "text": [
            "val Loss: 2.5123 Acc: 0.4903\n"
          ]
        },
        {
          "output_type": "display_data",
          "data": {
            "text/plain": [
              "train iter::   0%|          | 0/191 [00:00<?, ?it/s]"
            ],
            "application/vnd.jupyter.widget-view+json": {
              "version_major": 2,
              "version_minor": 0,
              "model_id": "bd9c1228916846edae6c583494fe4334"
            }
          },
          "metadata": {}
        },
        {
          "output_type": "stream",
          "name": "stdout",
          "text": [
            "train Loss: 1.0078 Acc: 0.7228\n"
          ]
        },
        {
          "output_type": "display_data",
          "data": {
            "text/plain": [
              "val iter::   0%|          | 0/48 [00:00<?, ?it/s]"
            ],
            "application/vnd.jupyter.widget-view+json": {
              "version_major": 2,
              "version_minor": 0,
              "model_id": "54a317d667dd4709a74bc4a2de09720c"
            }
          },
          "metadata": {}
        },
        {
          "output_type": "stream",
          "name": "stdout",
          "text": [
            "val Loss: 2.5511 Acc: 0.4779\n"
          ]
        },
        {
          "output_type": "display_data",
          "data": {
            "text/plain": [
              "train iter::   0%|          | 0/191 [00:00<?, ?it/s]"
            ],
            "application/vnd.jupyter.widget-view+json": {
              "version_major": 2,
              "version_minor": 0,
              "model_id": "3000af3e5ec140cb9ece62777989d54b"
            }
          },
          "metadata": {}
        },
        {
          "output_type": "stream",
          "name": "stdout",
          "text": [
            "train Loss: 0.9548 Acc: 0.7305\n"
          ]
        },
        {
          "output_type": "display_data",
          "data": {
            "text/plain": [
              "val iter::   0%|          | 0/48 [00:00<?, ?it/s]"
            ],
            "application/vnd.jupyter.widget-view+json": {
              "version_major": 2,
              "version_minor": 0,
              "model_id": "1bbde88e3b99474eacf129e5ba9e6e9d"
            }
          },
          "metadata": {}
        },
        {
          "output_type": "stream",
          "name": "stdout",
          "text": [
            "val Loss: 2.6187 Acc: 0.4707\n"
          ]
        },
        {
          "output_type": "display_data",
          "data": {
            "text/plain": [
              "train iter::   0%|          | 0/191 [00:00<?, ?it/s]"
            ],
            "application/vnd.jupyter.widget-view+json": {
              "version_major": 2,
              "version_minor": 0,
              "model_id": "f7d0453719054d4a8999c18098bb6549"
            }
          },
          "metadata": {}
        },
        {
          "output_type": "stream",
          "name": "stdout",
          "text": [
            "train Loss: 0.9475 Acc: 0.7355\n"
          ]
        },
        {
          "output_type": "display_data",
          "data": {
            "text/plain": [
              "val iter::   0%|          | 0/48 [00:00<?, ?it/s]"
            ],
            "application/vnd.jupyter.widget-view+json": {
              "version_major": 2,
              "version_minor": 0,
              "model_id": "ac20c921fe5f40e0a1615787e63d6928"
            }
          },
          "metadata": {}
        },
        {
          "output_type": "stream",
          "name": "stdout",
          "text": [
            "val Loss: 2.5916 Acc: 0.4841\n"
          ]
        },
        {
          "output_type": "display_data",
          "data": {
            "text/plain": [
              "train iter::   0%|          | 0/191 [00:00<?, ?it/s]"
            ],
            "application/vnd.jupyter.widget-view+json": {
              "version_major": 2,
              "version_minor": 0,
              "model_id": "404493a175fb484c960a49d819ebce0e"
            }
          },
          "metadata": {}
        },
        {
          "output_type": "stream",
          "name": "stdout",
          "text": [
            "train Loss: 0.9077 Acc: 0.7428\n"
          ]
        },
        {
          "output_type": "display_data",
          "data": {
            "text/plain": [
              "val iter::   0%|          | 0/48 [00:00<?, ?it/s]"
            ],
            "application/vnd.jupyter.widget-view+json": {
              "version_major": 2,
              "version_minor": 0,
              "model_id": "bfb32cd2b2aa4b0196a3b2d2ca5e0632"
            }
          },
          "metadata": {}
        },
        {
          "output_type": "stream",
          "name": "stdout",
          "text": [
            "val Loss: 2.5565 Acc: 0.4907\n"
          ]
        },
        {
          "output_type": "display_data",
          "data": {
            "text/plain": [
              "train iter::   0%|          | 0/191 [00:00<?, ?it/s]"
            ],
            "application/vnd.jupyter.widget-view+json": {
              "version_major": 2,
              "version_minor": 0,
              "model_id": "823dcf18228849b2b4ed787c238827f1"
            }
          },
          "metadata": {}
        },
        {
          "output_type": "stream",
          "name": "stdout",
          "text": [
            "train Loss: 0.9079 Acc: 0.7432\n"
          ]
        },
        {
          "output_type": "display_data",
          "data": {
            "text/plain": [
              "val iter::   0%|          | 0/48 [00:00<?, ?it/s]"
            ],
            "application/vnd.jupyter.widget-view+json": {
              "version_major": 2,
              "version_minor": 0,
              "model_id": "4b7a6817c7254ca68450e6f905c0ec8b"
            }
          },
          "metadata": {}
        },
        {
          "output_type": "stream",
          "name": "stdout",
          "text": [
            "val Loss: 2.5988 Acc: 0.4789\n"
          ]
        },
        {
          "output_type": "display_data",
          "data": {
            "text/plain": [
              "train iter::   0%|          | 0/191 [00:00<?, ?it/s]"
            ],
            "application/vnd.jupyter.widget-view+json": {
              "version_major": 2,
              "version_minor": 0,
              "model_id": "a07fae785041490c8ff9ff6fb6f09f39"
            }
          },
          "metadata": {}
        },
        {
          "output_type": "stream",
          "name": "stdout",
          "text": [
            "train Loss: 0.8744 Acc: 0.7512\n"
          ]
        },
        {
          "output_type": "display_data",
          "data": {
            "text/plain": [
              "val iter::   0%|          | 0/48 [00:00<?, ?it/s]"
            ],
            "application/vnd.jupyter.widget-view+json": {
              "version_major": 2,
              "version_minor": 0,
              "model_id": "806f70846f5741c2b453701e5dcff727"
            }
          },
          "metadata": {}
        },
        {
          "output_type": "stream",
          "name": "stdout",
          "text": [
            "val Loss: 2.5985 Acc: 0.4726\n"
          ]
        },
        {
          "output_type": "display_data",
          "data": {
            "text/plain": [
              "train iter::   0%|          | 0/191 [00:00<?, ?it/s]"
            ],
            "application/vnd.jupyter.widget-view+json": {
              "version_major": 2,
              "version_minor": 0,
              "model_id": "e3bc01c3b3fc4c4f976bbb21b6fdc181"
            }
          },
          "metadata": {}
        },
        {
          "output_type": "stream",
          "name": "stdout",
          "text": [
            "train Loss: 0.8633 Acc: 0.7544\n"
          ]
        },
        {
          "output_type": "display_data",
          "data": {
            "text/plain": [
              "val iter::   0%|          | 0/48 [00:00<?, ?it/s]"
            ],
            "application/vnd.jupyter.widget-view+json": {
              "version_major": 2,
              "version_minor": 0,
              "model_id": "ea81f700c0504544b2c005b13c38f0c0"
            }
          },
          "metadata": {}
        },
        {
          "output_type": "stream",
          "name": "stdout",
          "text": [
            "val Loss: 2.5454 Acc: 0.4815\n"
          ]
        },
        {
          "output_type": "display_data",
          "data": {
            "text/plain": [
              "train iter::   0%|          | 0/191 [00:00<?, ?it/s]"
            ],
            "application/vnd.jupyter.widget-view+json": {
              "version_major": 2,
              "version_minor": 0,
              "model_id": "cf6a43490db0409184a132fdffb1734e"
            }
          },
          "metadata": {}
        },
        {
          "output_type": "stream",
          "name": "stdout",
          "text": [
            "train Loss: 0.8341 Acc: 0.7625\n"
          ]
        },
        {
          "output_type": "display_data",
          "data": {
            "text/plain": [
              "val iter::   0%|          | 0/48 [00:00<?, ?it/s]"
            ],
            "application/vnd.jupyter.widget-view+json": {
              "version_major": 2,
              "version_minor": 0,
              "model_id": "44bf2ad87a7b4b3a99d5d01193c0416c"
            }
          },
          "metadata": {}
        },
        {
          "output_type": "stream",
          "name": "stdout",
          "text": [
            "val Loss: 2.6620 Acc: 0.4867\n"
          ]
        },
        {
          "output_type": "display_data",
          "data": {
            "text/plain": [
              "train iter::   0%|          | 0/191 [00:00<?, ?it/s]"
            ],
            "application/vnd.jupyter.widget-view+json": {
              "version_major": 2,
              "version_minor": 0,
              "model_id": "7d4540b9fc5c4aafa25d512411c0f9ea"
            }
          },
          "metadata": {}
        },
        {
          "output_type": "stream",
          "name": "stdout",
          "text": [
            "train Loss: 0.8328 Acc: 0.7628\n"
          ]
        },
        {
          "output_type": "display_data",
          "data": {
            "text/plain": [
              "val iter::   0%|          | 0/48 [00:00<?, ?it/s]"
            ],
            "application/vnd.jupyter.widget-view+json": {
              "version_major": 2,
              "version_minor": 0,
              "model_id": "2c8c5c43e4d54e1bbdfdc3090c1edf85"
            }
          },
          "metadata": {}
        },
        {
          "output_type": "stream",
          "name": "stdout",
          "text": [
            "val Loss: 2.5951 Acc: 0.4831\n",
            "Epoch: 29\n",
            "Training complete in 95m 38s\n",
            "Best val Acc: 0.490659\n"
          ]
        }
      ]
    },
    {
      "cell_type": "code",
      "source": [
        "def plot_losses_and_accuracy(train_losses, val_losses, train_acc, val_acc):\n",
        "    plt.figure(figsize=(10, 5))\n",
        "\n",
        "    # Plot losses\n",
        "    plt.subplot(1, 2, 1)\n",
        "    plt.plot(train_losses, label='Train')\n",
        "    plt.plot(val_losses, label='Validation')\n",
        "    plt.xlabel('Epoch')\n",
        "    plt.ylabel('Loss')\n",
        "    plt.title('Loss over epochs')\n",
        "    plt.legend()\n",
        "\n",
        "    # Plot accuracy\n",
        "    plt.subplot(1, 2, 2)\n",
        "    plt.plot(train_acc, label='Train')\n",
        "    plt.plot(val_acc, label='Validation')\n",
        "    plt.xlabel('Epoch')\n",
        "    plt.ylabel('Accuracy')\n",
        "    plt.title('Accuracy over epochs')\n",
        "    plt.legend()\n",
        "\n",
        "    plt.tight_layout()\n",
        "    plt.show()"
      ],
      "metadata": {
        "id": "TjtdDhvU3J49"
      },
      "execution_count": null,
      "outputs": []
    },
    {
      "cell_type": "code",
      "source": [
        "plot_losses_and_accuracy(losses['train'], losses['val'], accuracies['train'], accuracies['val'])"
      ],
      "metadata": {
        "id": "D9DFHJRK-Hwj",
        "colab": {
          "base_uri": "https://localhost:8080/",
          "height": 507
        },
        "outputId": "01ad4efc-c779-4b33-c31d-a8cede4e84d3"
      },
      "execution_count": null,
      "outputs": [
        {
          "output_type": "display_data",
          "data": {
            "text/plain": [
              "<Figure size 1000x500 with 2 Axes>"
            ],
            "image/png": "[encoded data removed]"
          },
          "metadata": {}
        }
      ]
    },
    {
      "cell_type": "code",
      "source": [
        "PATH = \"resnet_101.pth\"\n",
        "\n",
        "torch.save(model.state_dict(), PATH)"
      ],
      "metadata": {
        "id": "e6cxhN3Jwuj_"
      },
      "execution_count": null,
      "outputs": []
    },
    {
      "cell_type": "markdown",
      "source": [
        "## Выбор топ 5 подходящих мест"
      ],
      "metadata": {
        "id": "g3NdVS0iuels"
      }
    },
    {
      "cell_type": "code",
      "source": [
        "# Создаем пустой список для хранения вероятностей классов\n",
        "probabilities_list = []\n",
        "\n",
        "for i, image in enumerate(X_val[:1]):\n",
        "    image_tensor = test_transform(image).unsqueeze(0).to(device)\n",
        "\n",
        "    with torch.no_grad():\n",
        "        outputs = model(image_tensor)\n",
        "        _, predicted = outputs.topk(5, 1)\n",
        "        probabilities = torch.sigmoid(outputs).squeeze().tolist()  # Вероятности классов\n",
        "\n",
        "    probabilities_list.append(probabilities)"
      ],
      "metadata": {
        "id": "Fp5310SulDd9"
      },
      "execution_count": null,
      "outputs": []
    },
    {
      "cell_type": "code",
      "source": [
        "# Отфильтруем классы с ненулевой вероятностью\n",
        "nonzero_probabilities = [(label_encoder.inverse_transform([i])[0], mean_probabilities[i]) for i in range(len(mean_probabilities)) if mean_probabilities[i] >= 0.000001]\n",
        "\n",
        "# Разделим классы и вероятности\n",
        "classes, probabilities = zip(*nonzero_probabilities)\n",
        "\n",
        "# Построение гистограммы\n",
        "plt.figure(figsize=(10, len(classes)*0.5))\n",
        "plt.barh(range(len(classes)), probabilities, color='skyblue')\n",
        "plt.xlabel('Вероятность')\n",
        "plt.ylabel('Классы')\n",
        "plt.title('Средние вероятности для топ-5 классов (не нулевые)')\n",
        "plt.yticks(range(len(classes)), classes)\n",
        "plt.show()\n"
      ],
      "metadata": {
        "colab": {
          "base_uri": "https://localhost:8080/",
          "height": 410
        },
        "id": "7wGUeZ14xgyw",
        "outputId": "8238ac7d-24ce-4c10-9f89-8fcaf403bc3c"
      },
      "execution_count": null,
      "outputs": [
        {
          "output_type": "display_data",
          "data": {
            "text/plain": [
              "<Figure size 1000x400 with 1 Axes>"
            ],
            "image/png": "[encoded data removed]"
          },
          "metadata": {}
        }
      ]
    },
    {
      "cell_type": "code",
      "source": [
        "torch.save(model.state_dict(), 'model.pth')"
      ],
      "metadata": {
        "id": "Tv21k3nr7o3y"
      },
      "execution_count": null,
      "outputs": []
    }
  ]
}